{
  "nbformat": 4,
  "nbformat_minor": 0,
  "metadata": {
    "anaconda-cloud": {},
    "kernelspec": {
      "name": "python3",
      "display_name": "Python 3"
    },
    "colab": {
      "name": "第2回課題.ipynb",
      "provenance": [],
      "include_colab_link": true
    }
  },
  "cells": [
    {
      "cell_type": "markdown",
      "metadata": {
        "id": "view-in-github",
        "colab_type": "text"
      },
      "source": [
        "<a href=\"https://colab.research.google.com/github/hiraso/lab_task/blob/master/%E7%AC%AC2%E5%9B%9E%E8%AA%B2%E9%A1%8C.ipynb\" target=\"_parent\"><img src=\"https://colab.research.google.com/assets/colab-badge.svg\" alt=\"Open In Colab\"/></a>"
      ]
    },
    {
      "cell_type": "markdown",
      "metadata": {
        "id": "SNzsma1DVAyO",
        "colab_type": "text"
      },
      "source": [
        "# 第2回課題\n",
        "numpy, pandas\n",
        "\n",
        "ここでは基本的なことが学べればいいので下記の tutorial に必ず答えがあります．また，一読をお勧めします（scipy は今回対象としていません）．\n",
        "- [numpy](https://numpy.org/devdocs/user/quickstart.html)\n",
        "- [pandas](https://pandas.pydata.org/docs/getting_started/index.html)\n",
        "- [scipy](https://scipy-lectures.org/)"
      ]
    },
    {
      "cell_type": "code",
      "metadata": {
        "id": "b_A8vuztVAyP",
        "colab_type": "code",
        "colab": {}
      },
      "source": [
        "import numpy as np\n",
        "import pandas as pd"
      ],
      "execution_count": 0,
      "outputs": []
    },
    {
      "cell_type": "markdown",
      "metadata": {
        "id": "fYbWvvNKVAyV",
        "colab_type": "text"
      },
      "source": [
        "## numpy"
      ]
    },
    {
      "cell_type": "markdown",
      "metadata": {
        "id": "2bRLxFKpVAyW",
        "colab_type": "text"
      },
      "source": [
        "### 課題1\n",
        "九九の表を作りなさい．\n",
        "方法はいくつかありますが numpy を用いていればいいです．\n",
        "\n",
        "出力：  \n",
        "```\n",
        "array([[ 1,  2,  3,  4,  5,  6,  7,  8,  9],\n",
        "       [ 2,  4,  6,  8, 10, 12, 14, 16, 18],\n",
        "       [ 3,  6,  9, 12, 15, 18, 21, 24, 27],\n",
        "       [ 4,  8, 12, 16, 20, 24, 28, 32, 36],\n",
        "       [ 5, 10, 15, 20, 25, 30, 35, 40, 45],\n",
        "       [ 6, 12, 18, 24, 30, 36, 42, 48, 54],\n",
        "       [ 7, 14, 21, 28, 35, 42, 49, 56, 63],\n",
        "       [ 8, 16, 24, 32, 40, 48, 56, 64, 72],\n",
        "       [ 9, 18, 27, 36, 45, 54, 63, 72, 81]])\n",
        "```"
      ]
    },
    {
      "cell_type": "code",
      "metadata": {
        "id": "cHn06kPMVAyX",
        "colab_type": "code",
        "colab": {}
      },
      "source": [
        "a = np.array([1,2,3,4,5,6,7,8,9])\n",
        "b = np.array([1,2,3,4,5,6,7,8,9])\n",
        "c = np.outer(a,b)"
      ],
      "execution_count": 0,
      "outputs": []
    },
    {
      "cell_type": "code",
      "metadata": {
        "id": "HZQmbZMJVr8l",
        "colab_type": "code",
        "colab": {
          "base_uri": "https://localhost:8080/",
          "height": 170
        },
        "outputId": "7994761c-4361-448b-b909-3c18ded71711"
      },
      "source": [
        "c"
      ],
      "execution_count": 55,
      "outputs": [
        {
          "output_type": "execute_result",
          "data": {
            "text/plain": [
              "array([[ 1,  2,  3,  4,  5,  6,  7,  8,  9],\n",
              "       [ 2,  4,  6,  8, 10, 12, 14, 16, 18],\n",
              "       [ 3,  6,  9, 12, 15, 18, 21, 24, 27],\n",
              "       [ 4,  8, 12, 16, 20, 24, 28, 32, 36],\n",
              "       [ 5, 10, 15, 20, 25, 30, 35, 40, 45],\n",
              "       [ 6, 12, 18, 24, 30, 36, 42, 48, 54],\n",
              "       [ 7, 14, 21, 28, 35, 42, 49, 56, 63],\n",
              "       [ 8, 16, 24, 32, 40, 48, 56, 64, 72],\n",
              "       [ 9, 18, 27, 36, 45, 54, 63, 72, 81]])"
            ]
          },
          "metadata": {
            "tags": []
          },
          "execution_count": 55
        }
      ]
    },
    {
      "cell_type": "markdown",
      "metadata": {
        "id": "QojWgsisVAya",
        "colab_type": "text"
      },
      "source": [
        "### 課題2\n",
        "以下の2つのデータに対し，共分散を導出せよ．  \n",
        "今回の式では平均が N で求められていることに注意し，`np.cov` の[定義](https://docs.scipy.org/doc/numpy/reference/generated/numpy.cov.html#numpy.cov)をよく読み引数を考慮すること \n",
        "\n",
        "上記の関数が上手く使えない場合は，前回のコードを numpy を用いて実装すること\n",
        "\n",
        "\n",
        "```[python]\n",
        "d1 = np.asarray([50, 50, 80, 70, 90])   # データ1\n",
        "d2 = np.fromiter([50, 70, 60, 90, 100], dtype=int)  # データ2（あえて2つの書き方をしていますが，同じ形になります）\n",
        "```\n",
        "出力：  \n",
        "$188.0$  \n",
        "\n",
        "ここで，サンプル集合 $X=\\{x_i\\}_{1 \\le i \\le N}$，$Y=\\{y_i\\}_{1 \\le i \\le N}$ に対する 共分散 は下式により与えられるものとする．  \n",
        "なお，$N$はサンプル数を表す．\n",
        "\n",
        "$$\n",
        "    \\begin{align}\n",
        "        Cov(X,Y)&=\\frac{1}{N}\\left(\\sum_{i=1}^Nx_iy_i\\right)-\\left(\\frac{1}{N}\\sum_{i=1}^N x_i\\right)\\left(\\frac{1}{N}\\sum_{i=1}^N y_i\\right)\n",
        "    \\end{align}\n",
        "$$  \n",
        "\n"
      ]
    },
    {
      "cell_type": "code",
      "metadata": {
        "id": "4qJ1Ca_PVAyb",
        "colab_type": "code",
        "colab": {
          "base_uri": "https://localhost:8080/",
          "height": 34
        },
        "outputId": "4af8f7b7-6311-491d-f976-cf3d64cb2e6b"
      },
      "source": [
        "d1 = np.asarray([50, 50, 80, 70, 90])   # データ1\n",
        "d2 = np.fromiter([50, 70, 60, 90, 100], dtype=int)\n",
        "d1d2 = np.mean(d1)*np.mean(d2)\n",
        "d1d2_mul = np.sum(d1*d2)/np.shape(d1)\n",
        "print('共分散：' + str(d1d2_mul-d1d2))"
      ],
      "execution_count": 56,
      "outputs": [
        {
          "output_type": "stream",
          "text": [
            "共分散：[188.]\n"
          ],
          "name": "stdout"
        }
      ]
    },
    {
      "cell_type": "markdown",
      "metadata": {
        "id": "FTYQDRBtVAye",
        "colab_type": "text"
      },
      "source": [
        "## pandas"
      ]
    },
    {
      "cell_type": "markdown",
      "metadata": {
        "id": "2ujDmA-iVAyf",
        "colab_type": "text"
      },
      "source": [
        "open dataset の1つである iris dataset の読み込み（ここでは，おまじない）"
      ]
    },
    {
      "cell_type": "code",
      "metadata": {
        "id": "Ai2x6VQiVAyg",
        "colab_type": "code",
        "colab": {}
      },
      "source": [
        "from sklearn.datasets import load_iris\n",
        "iris_data = load_iris() #del iris_data などで不要となった変数を消すことも可能\n",
        "data, label, feature_names = iris_data[\"data\"], iris_data[\"target\"], iris_data[\"feature_names\"]"
      ],
      "execution_count": 0,
      "outputs": []
    },
    {
      "cell_type": "code",
      "metadata": {
        "id": "FJ2e0wxqVAyk",
        "colab_type": "code",
        "colab": {
          "base_uri": "https://localhost:8080/",
          "height": 102
        },
        "outputId": "faf27f22-7490-4f63-bb4c-2370ffff701d"
      },
      "source": [
        "data[:5]"
      ],
      "execution_count": 58,
      "outputs": [
        {
          "output_type": "execute_result",
          "data": {
            "text/plain": [
              "array([[5.1, 3.5, 1.4, 0.2],\n",
              "       [4.9, 3. , 1.4, 0.2],\n",
              "       [4.7, 3.2, 1.3, 0.2],\n",
              "       [4.6, 3.1, 1.5, 0.2],\n",
              "       [5. , 3.6, 1.4, 0.2]])"
            ]
          },
          "metadata": {
            "tags": []
          },
          "execution_count": 58
        }
      ]
    },
    {
      "cell_type": "markdown",
      "metadata": {
        "id": "W63UjEdiVAyo",
        "colab_type": "text"
      },
      "source": [
        "### 課題3\n",
        "次のコードの . の前後を埋めて，DataFrame 化し，それを書き込んで読み込み直したものを出力\n",
        "```[python]\n",
        "iris_df = pd. # DataFrame 化\n",
        "iris_df. # csv or pickle で出力\n",
        "pd. # csv or pickleの読み込み\n",
        ".head() # 先頭の出力\n",
        "```\n",
        "出力：（形があっていれば良いですが，column 名であったり，不必要な index を消せているとなおよいです）\n",
        "```\n",
        "sepal length (cm)\tsepal width (cm)\tpetal length (cm)\tpetal width (cm)\n",
        "0\t5.1\t3.5\t1.4\t0.2\n",
        "1\t4.9\t3.0\t1.4\t0.2\n",
        "2\t4.7\t3.2\t1.3\t0.2\n",
        "3\t4.6\t3.1\t1.5\t0.2\n",
        "4\t5.0\t3.6\t1.4\t0.2\n",
        "```"
      ]
    },
    {
      "cell_type": "code",
      "metadata": {
        "id": "dVyCL4eDVAyp",
        "colab_type": "code",
        "colab": {
          "base_uri": "https://localhost:8080/",
          "height": 204
        },
        "outputId": "4c455704-aecf-4be6-d7ea-7cc31a9d4ec9"
      },
      "source": [
        "iris_df = pd.DataFrame(data, columns=feature_names)\n",
        "iris_df.to_csv()\n",
        "pd.read_csv\n",
        "iris_df.head()"
      ],
      "execution_count": 59,
      "outputs": [
        {
          "output_type": "execute_result",
          "data": {
            "text/html": [
              "<div>\n",
              "<style scoped>\n",
              "    .dataframe tbody tr th:only-of-type {\n",
              "        vertical-align: middle;\n",
              "    }\n",
              "\n",
              "    .dataframe tbody tr th {\n",
              "        vertical-align: top;\n",
              "    }\n",
              "\n",
              "    .dataframe thead th {\n",
              "        text-align: right;\n",
              "    }\n",
              "</style>\n",
              "<table border=\"1\" class=\"dataframe\">\n",
              "  <thead>\n",
              "    <tr style=\"text-align: right;\">\n",
              "      <th></th>\n",
              "      <th>sepal length (cm)</th>\n",
              "      <th>sepal width (cm)</th>\n",
              "      <th>petal length (cm)</th>\n",
              "      <th>petal width (cm)</th>\n",
              "    </tr>\n",
              "  </thead>\n",
              "  <tbody>\n",
              "    <tr>\n",
              "      <th>0</th>\n",
              "      <td>5.1</td>\n",
              "      <td>3.5</td>\n",
              "      <td>1.4</td>\n",
              "      <td>0.2</td>\n",
              "    </tr>\n",
              "    <tr>\n",
              "      <th>1</th>\n",
              "      <td>4.9</td>\n",
              "      <td>3.0</td>\n",
              "      <td>1.4</td>\n",
              "      <td>0.2</td>\n",
              "    </tr>\n",
              "    <tr>\n",
              "      <th>2</th>\n",
              "      <td>4.7</td>\n",
              "      <td>3.2</td>\n",
              "      <td>1.3</td>\n",
              "      <td>0.2</td>\n",
              "    </tr>\n",
              "    <tr>\n",
              "      <th>3</th>\n",
              "      <td>4.6</td>\n",
              "      <td>3.1</td>\n",
              "      <td>1.5</td>\n",
              "      <td>0.2</td>\n",
              "    </tr>\n",
              "    <tr>\n",
              "      <th>4</th>\n",
              "      <td>5.0</td>\n",
              "      <td>3.6</td>\n",
              "      <td>1.4</td>\n",
              "      <td>0.2</td>\n",
              "    </tr>\n",
              "  </tbody>\n",
              "</table>\n",
              "</div>"
            ],
            "text/plain": [
              "   sepal length (cm)  sepal width (cm)  petal length (cm)  petal width (cm)\n",
              "0                5.1               3.5                1.4               0.2\n",
              "1                4.9               3.0                1.4               0.2\n",
              "2                4.7               3.2                1.3               0.2\n",
              "3                4.6               3.1                1.5               0.2\n",
              "4                5.0               3.6                1.4               0.2"
            ]
          },
          "metadata": {
            "tags": []
          },
          "execution_count": 59
        }
      ]
    },
    {
      "cell_type": "markdown",
      "metadata": {
        "collapsed": false,
        "id": "b5cH3IQPVAys",
        "colab_type": "text"
      },
      "source": [
        "### 課題4\n",
        "作成した dataframe に label を接続\n",
        "```\n",
        "label = pd.DataFrame(label, columns=[\"label\"])\n",
        "iris_df = pd.\n",
        "iris_df.head()\n",
        "```\n",
        "\n",
        "出力：\n",
        "```\n",
        "\tsepal length (cm)\tsepal width (cm)\tpetal length (cm)\tpetal width (cm)\tlabel\n",
        "0\t5.1\t3.5\t1.4\t0.2\t0\n",
        "1\t4.9\t3.0\t1.4\t0.2\t0\n",
        "2\t4.7\t3.2\t1.3\t0.2\t0\n",
        "3\t4.6\t3.1\t1.5\t0.2\t0\n",
        "4\t5.0\t3.6\t1.4\t0.2\t0\n",
        "```"
      ]
    },
    {
      "cell_type": "code",
      "metadata": {
        "id": "W9vcftsgVAys",
        "colab_type": "code",
        "colab": {
          "base_uri": "https://localhost:8080/",
          "height": 204
        },
        "outputId": "4b1ab9e5-62e7-490a-a25d-ddd7266fba07"
      },
      "source": [
        "label = pd.DataFrame(label, columns=[\"label\"])\n",
        "iris_df = pd.concat([iris_df, label], axis=1)\n",
        "iris_df.head()"
      ],
      "execution_count": 60,
      "outputs": [
        {
          "output_type": "execute_result",
          "data": {
            "text/html": [
              "<div>\n",
              "<style scoped>\n",
              "    .dataframe tbody tr th:only-of-type {\n",
              "        vertical-align: middle;\n",
              "    }\n",
              "\n",
              "    .dataframe tbody tr th {\n",
              "        vertical-align: top;\n",
              "    }\n",
              "\n",
              "    .dataframe thead th {\n",
              "        text-align: right;\n",
              "    }\n",
              "</style>\n",
              "<table border=\"1\" class=\"dataframe\">\n",
              "  <thead>\n",
              "    <tr style=\"text-align: right;\">\n",
              "      <th></th>\n",
              "      <th>sepal length (cm)</th>\n",
              "      <th>sepal width (cm)</th>\n",
              "      <th>petal length (cm)</th>\n",
              "      <th>petal width (cm)</th>\n",
              "      <th>label</th>\n",
              "    </tr>\n",
              "  </thead>\n",
              "  <tbody>\n",
              "    <tr>\n",
              "      <th>0</th>\n",
              "      <td>5.1</td>\n",
              "      <td>3.5</td>\n",
              "      <td>1.4</td>\n",
              "      <td>0.2</td>\n",
              "      <td>0</td>\n",
              "    </tr>\n",
              "    <tr>\n",
              "      <th>1</th>\n",
              "      <td>4.9</td>\n",
              "      <td>3.0</td>\n",
              "      <td>1.4</td>\n",
              "      <td>0.2</td>\n",
              "      <td>0</td>\n",
              "    </tr>\n",
              "    <tr>\n",
              "      <th>2</th>\n",
              "      <td>4.7</td>\n",
              "      <td>3.2</td>\n",
              "      <td>1.3</td>\n",
              "      <td>0.2</td>\n",
              "      <td>0</td>\n",
              "    </tr>\n",
              "    <tr>\n",
              "      <th>3</th>\n",
              "      <td>4.6</td>\n",
              "      <td>3.1</td>\n",
              "      <td>1.5</td>\n",
              "      <td>0.2</td>\n",
              "      <td>0</td>\n",
              "    </tr>\n",
              "    <tr>\n",
              "      <th>4</th>\n",
              "      <td>5.0</td>\n",
              "      <td>3.6</td>\n",
              "      <td>1.4</td>\n",
              "      <td>0.2</td>\n",
              "      <td>0</td>\n",
              "    </tr>\n",
              "  </tbody>\n",
              "</table>\n",
              "</div>"
            ],
            "text/plain": [
              "   sepal length (cm)  sepal width (cm)  ...  petal width (cm)  label\n",
              "0                5.1               3.5  ...               0.2      0\n",
              "1                4.9               3.0  ...               0.2      0\n",
              "2                4.7               3.2  ...               0.2      0\n",
              "3                4.6               3.1  ...               0.2      0\n",
              "4                5.0               3.6  ...               0.2      0\n",
              "\n",
              "[5 rows x 5 columns]"
            ]
          },
          "metadata": {
            "tags": []
          },
          "execution_count": 60
        }
      ]
    },
    {
      "cell_type": "markdown",
      "metadata": {
        "id": "0jrT__FOVAyv",
        "colab_type": "text"
      },
      "source": [
        "### 課題5\n",
        "iris_df の中から label == 1 の行を出力し，index を治す．\n",
        "```\n",
        "iris_one_df = iris_df[....]\n",
        "iris_one_df = iris_one_df.r\n",
        "iris_one_df.head()\n",
        "```\n",
        "\n",
        "出力：\n",
        "```\n",
        "\tsepal length (cm)\tsepal width (cm)\tpetal length (cm)\tpetal width (cm)\tlabel\n",
        "0\t7.0\t3.2\t4.7\t1.4\t1\n",
        "1\t6.4\t3.2\t4.5\t1.5\t1\n",
        "2\t6.9\t3.1\t4.9\t1.5\t1\n",
        "3\t5.5\t2.3\t4.0\t1.3\t1\n",
        "4\t6.5\t2.8\t4.6\t1.5\t1\n",
        "```"
      ]
    },
    {
      "cell_type": "code",
      "metadata": {
        "id": "lV0zrLPGVAyv",
        "colab_type": "code",
        "colab": {
          "base_uri": "https://localhost:8080/",
          "height": 204
        },
        "outputId": "e8a82447-8194-4d4b-fcfa-b621e718aac1"
      },
      "source": [
        "iris_one_df = iris_df[iris_df.label==1]\n",
        "iris_one_df = iris_one_df.reset_index()\n",
        "iris_one_df.head()"
      ],
      "execution_count": 61,
      "outputs": [
        {
          "output_type": "execute_result",
          "data": {
            "text/html": [
              "<div>\n",
              "<style scoped>\n",
              "    .dataframe tbody tr th:only-of-type {\n",
              "        vertical-align: middle;\n",
              "    }\n",
              "\n",
              "    .dataframe tbody tr th {\n",
              "        vertical-align: top;\n",
              "    }\n",
              "\n",
              "    .dataframe thead th {\n",
              "        text-align: right;\n",
              "    }\n",
              "</style>\n",
              "<table border=\"1\" class=\"dataframe\">\n",
              "  <thead>\n",
              "    <tr style=\"text-align: right;\">\n",
              "      <th></th>\n",
              "      <th>index</th>\n",
              "      <th>sepal length (cm)</th>\n",
              "      <th>sepal width (cm)</th>\n",
              "      <th>petal length (cm)</th>\n",
              "      <th>petal width (cm)</th>\n",
              "      <th>label</th>\n",
              "    </tr>\n",
              "  </thead>\n",
              "  <tbody>\n",
              "    <tr>\n",
              "      <th>0</th>\n",
              "      <td>50</td>\n",
              "      <td>7.0</td>\n",
              "      <td>3.2</td>\n",
              "      <td>4.7</td>\n",
              "      <td>1.4</td>\n",
              "      <td>1</td>\n",
              "    </tr>\n",
              "    <tr>\n",
              "      <th>1</th>\n",
              "      <td>51</td>\n",
              "      <td>6.4</td>\n",
              "      <td>3.2</td>\n",
              "      <td>4.5</td>\n",
              "      <td>1.5</td>\n",
              "      <td>1</td>\n",
              "    </tr>\n",
              "    <tr>\n",
              "      <th>2</th>\n",
              "      <td>52</td>\n",
              "      <td>6.9</td>\n",
              "      <td>3.1</td>\n",
              "      <td>4.9</td>\n",
              "      <td>1.5</td>\n",
              "      <td>1</td>\n",
              "    </tr>\n",
              "    <tr>\n",
              "      <th>3</th>\n",
              "      <td>53</td>\n",
              "      <td>5.5</td>\n",
              "      <td>2.3</td>\n",
              "      <td>4.0</td>\n",
              "      <td>1.3</td>\n",
              "      <td>1</td>\n",
              "    </tr>\n",
              "    <tr>\n",
              "      <th>4</th>\n",
              "      <td>54</td>\n",
              "      <td>6.5</td>\n",
              "      <td>2.8</td>\n",
              "      <td>4.6</td>\n",
              "      <td>1.5</td>\n",
              "      <td>1</td>\n",
              "    </tr>\n",
              "  </tbody>\n",
              "</table>\n",
              "</div>"
            ],
            "text/plain": [
              "   index  sepal length (cm)  ...  petal width (cm)  label\n",
              "0     50                7.0  ...               1.4      1\n",
              "1     51                6.4  ...               1.5      1\n",
              "2     52                6.9  ...               1.5      1\n",
              "3     53                5.5  ...               1.3      1\n",
              "4     54                6.5  ...               1.5      1\n",
              "\n",
              "[5 rows x 6 columns]"
            ]
          },
          "metadata": {
            "tags": []
          },
          "execution_count": 61
        }
      ]
    },
    {
      "cell_type": "code",
      "metadata": {
        "id": "ZFYM-g3qH7LF",
        "colab_type": "code",
        "colab": {
          "base_uri": "https://localhost:8080/",
          "height": 204
        },
        "outputId": "88ffa882-314a-4055-eded-34c5b9b2f84b"
      },
      "source": [
        "iris_one_df.drop(columns = 'index').head()"
      ],
      "execution_count": 62,
      "outputs": [
        {
          "output_type": "execute_result",
          "data": {
            "text/html": [
              "<div>\n",
              "<style scoped>\n",
              "    .dataframe tbody tr th:only-of-type {\n",
              "        vertical-align: middle;\n",
              "    }\n",
              "\n",
              "    .dataframe tbody tr th {\n",
              "        vertical-align: top;\n",
              "    }\n",
              "\n",
              "    .dataframe thead th {\n",
              "        text-align: right;\n",
              "    }\n",
              "</style>\n",
              "<table border=\"1\" class=\"dataframe\">\n",
              "  <thead>\n",
              "    <tr style=\"text-align: right;\">\n",
              "      <th></th>\n",
              "      <th>sepal length (cm)</th>\n",
              "      <th>sepal width (cm)</th>\n",
              "      <th>petal length (cm)</th>\n",
              "      <th>petal width (cm)</th>\n",
              "      <th>label</th>\n",
              "    </tr>\n",
              "  </thead>\n",
              "  <tbody>\n",
              "    <tr>\n",
              "      <th>0</th>\n",
              "      <td>7.0</td>\n",
              "      <td>3.2</td>\n",
              "      <td>4.7</td>\n",
              "      <td>1.4</td>\n",
              "      <td>1</td>\n",
              "    </tr>\n",
              "    <tr>\n",
              "      <th>1</th>\n",
              "      <td>6.4</td>\n",
              "      <td>3.2</td>\n",
              "      <td>4.5</td>\n",
              "      <td>1.5</td>\n",
              "      <td>1</td>\n",
              "    </tr>\n",
              "    <tr>\n",
              "      <th>2</th>\n",
              "      <td>6.9</td>\n",
              "      <td>3.1</td>\n",
              "      <td>4.9</td>\n",
              "      <td>1.5</td>\n",
              "      <td>1</td>\n",
              "    </tr>\n",
              "    <tr>\n",
              "      <th>3</th>\n",
              "      <td>5.5</td>\n",
              "      <td>2.3</td>\n",
              "      <td>4.0</td>\n",
              "      <td>1.3</td>\n",
              "      <td>1</td>\n",
              "    </tr>\n",
              "    <tr>\n",
              "      <th>4</th>\n",
              "      <td>6.5</td>\n",
              "      <td>2.8</td>\n",
              "      <td>4.6</td>\n",
              "      <td>1.5</td>\n",
              "      <td>1</td>\n",
              "    </tr>\n",
              "  </tbody>\n",
              "</table>\n",
              "</div>"
            ],
            "text/plain": [
              "   sepal length (cm)  sepal width (cm)  ...  petal width (cm)  label\n",
              "0                7.0               3.2  ...               1.4      1\n",
              "1                6.4               3.2  ...               1.5      1\n",
              "2                6.9               3.1  ...               1.5      1\n",
              "3                5.5               2.3  ...               1.3      1\n",
              "4                6.5               2.8  ...               1.5      1\n",
              "\n",
              "[5 rows x 5 columns]"
            ]
          },
          "metadata": {
            "tags": []
          },
          "execution_count": 62
        }
      ]
    },
    {
      "cell_type": "markdown",
      "metadata": {
        "id": "e9JJh0kPVAy0",
        "colab_type": "text"
      },
      "source": [
        "### 課題6\n",
        "pandas の機能を用いて，基本統計量を出力（関数1つで出せるが，個別に min, max, mean などを出しても良い）．\n",
        "```\n",
        "iris_df.\n",
        "```\n",
        "\n",
        "出力：\n",
        "```\n",
        "\t\tsepal length (cm)\tsepal width (cm)\tpetal length (cm)\tpetal width (cm)\tlabel\n",
        "count\t150.000000\t150.000000\t150.000000\t150.000000\t150.000000\n",
        "mean\t5.843333\t3.057333\t3.758000\t1.199333\t1.000000\n",
        "std\t0.828066\t0.435866\t1.765298\t0.762238\t0.819232\n",
        "min\t4.300000\t2.000000\t1.000000\t0.100000\t0.000000\n",
        "25%\t5.100000\t2.800000\t1.600000\t0.300000\t0.000000\n",
        "50%\t5.800000\t3.000000\t4.350000\t1.300000\t1.000000\n",
        "75%\t6.400000\t3.300000\t5.100000\t1.800000\t2.000000\n",
        "max\t7.900000\t4.400000\t6.900000\t2.500000\t2.000000\n",
        "```"
      ]
    },
    {
      "cell_type": "code",
      "metadata": {
        "id": "9NWl0A5aVAy0",
        "colab_type": "code",
        "colab": {
          "base_uri": "https://localhost:8080/",
          "height": 297
        },
        "outputId": "eda10e8b-7a44-4d11-a431-9a7c8943147c"
      },
      "source": [
        "iris_df.describe()"
      ],
      "execution_count": 63,
      "outputs": [
        {
          "output_type": "execute_result",
          "data": {
            "text/html": [
              "<div>\n",
              "<style scoped>\n",
              "    .dataframe tbody tr th:only-of-type {\n",
              "        vertical-align: middle;\n",
              "    }\n",
              "\n",
              "    .dataframe tbody tr th {\n",
              "        vertical-align: top;\n",
              "    }\n",
              "\n",
              "    .dataframe thead th {\n",
              "        text-align: right;\n",
              "    }\n",
              "</style>\n",
              "<table border=\"1\" class=\"dataframe\">\n",
              "  <thead>\n",
              "    <tr style=\"text-align: right;\">\n",
              "      <th></th>\n",
              "      <th>sepal length (cm)</th>\n",
              "      <th>sepal width (cm)</th>\n",
              "      <th>petal length (cm)</th>\n",
              "      <th>petal width (cm)</th>\n",
              "      <th>label</th>\n",
              "    </tr>\n",
              "  </thead>\n",
              "  <tbody>\n",
              "    <tr>\n",
              "      <th>count</th>\n",
              "      <td>150.000000</td>\n",
              "      <td>150.000000</td>\n",
              "      <td>150.000000</td>\n",
              "      <td>150.000000</td>\n",
              "      <td>150.000000</td>\n",
              "    </tr>\n",
              "    <tr>\n",
              "      <th>mean</th>\n",
              "      <td>5.843333</td>\n",
              "      <td>3.057333</td>\n",
              "      <td>3.758000</td>\n",
              "      <td>1.199333</td>\n",
              "      <td>1.000000</td>\n",
              "    </tr>\n",
              "    <tr>\n",
              "      <th>std</th>\n",
              "      <td>0.828066</td>\n",
              "      <td>0.435866</td>\n",
              "      <td>1.765298</td>\n",
              "      <td>0.762238</td>\n",
              "      <td>0.819232</td>\n",
              "    </tr>\n",
              "    <tr>\n",
              "      <th>min</th>\n",
              "      <td>4.300000</td>\n",
              "      <td>2.000000</td>\n",
              "      <td>1.000000</td>\n",
              "      <td>0.100000</td>\n",
              "      <td>0.000000</td>\n",
              "    </tr>\n",
              "    <tr>\n",
              "      <th>25%</th>\n",
              "      <td>5.100000</td>\n",
              "      <td>2.800000</td>\n",
              "      <td>1.600000</td>\n",
              "      <td>0.300000</td>\n",
              "      <td>0.000000</td>\n",
              "    </tr>\n",
              "    <tr>\n",
              "      <th>50%</th>\n",
              "      <td>5.800000</td>\n",
              "      <td>3.000000</td>\n",
              "      <td>4.350000</td>\n",
              "      <td>1.300000</td>\n",
              "      <td>1.000000</td>\n",
              "    </tr>\n",
              "    <tr>\n",
              "      <th>75%</th>\n",
              "      <td>6.400000</td>\n",
              "      <td>3.300000</td>\n",
              "      <td>5.100000</td>\n",
              "      <td>1.800000</td>\n",
              "      <td>2.000000</td>\n",
              "    </tr>\n",
              "    <tr>\n",
              "      <th>max</th>\n",
              "      <td>7.900000</td>\n",
              "      <td>4.400000</td>\n",
              "      <td>6.900000</td>\n",
              "      <td>2.500000</td>\n",
              "      <td>2.000000</td>\n",
              "    </tr>\n",
              "  </tbody>\n",
              "</table>\n",
              "</div>"
            ],
            "text/plain": [
              "       sepal length (cm)  sepal width (cm)  ...  petal width (cm)       label\n",
              "count         150.000000        150.000000  ...        150.000000  150.000000\n",
              "mean            5.843333          3.057333  ...          1.199333    1.000000\n",
              "std             0.828066          0.435866  ...          0.762238    0.819232\n",
              "min             4.300000          2.000000  ...          0.100000    0.000000\n",
              "25%             5.100000          2.800000  ...          0.300000    0.000000\n",
              "50%             5.800000          3.000000  ...          1.300000    1.000000\n",
              "75%             6.400000          3.300000  ...          1.800000    2.000000\n",
              "max             7.900000          4.400000  ...          2.500000    2.000000\n",
              "\n",
              "[8 rows x 5 columns]"
            ]
          },
          "metadata": {
            "tags": []
          },
          "execution_count": 63
        }
      ]
    },
    {
      "cell_type": "markdown",
      "metadata": {
        "id": "rLXPdKEEVAy7",
        "colab_type": "text"
      },
      "source": [
        "### 発展課題\n",
        "apply 関数を用いて，sepal length (cm) の値を切り上げよ"
      ]
    },
    {
      "cell_type": "code",
      "metadata": {
        "id": "-NrlmLzjVAy8",
        "colab_type": "code",
        "colab": {}
      },
      "source": [
        ""
      ],
      "execution_count": 0,
      "outputs": []
    }
  ]
}