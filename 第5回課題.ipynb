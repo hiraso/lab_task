{
  "nbformat": 4,
  "nbformat_minor": 0,
  "metadata": {
    "kernelspec": {
      "display_name": "Python [Root]",
      "language": "python",
      "name": "Python [Root]"
    },
    "language_info": {
      "codemirror_mode": {
        "name": "ipython",
        "version": 3
      },
      "file_extension": ".py",
      "mimetype": "text/x-python",
      "name": "python",
      "nbconvert_exporter": "python",
      "pygments_lexer": "ipython3",
      "version": "3.5.2"
    },
    "colab": {
      "name": "第5回課題.ipynb",
      "provenance": [],
      "collapsed_sections": [],
      "include_colab_link": true
    }
  },
  "cells": [
    {
      "cell_type": "markdown",
      "metadata": {
        "id": "view-in-github",
        "colab_type": "text"
      },
      "source": [
        "<a href=\"https://colab.research.google.com/github/hiraso/lab_task/blob/master/%E7%AC%AC5%E5%9B%9E%E8%AA%B2%E9%A1%8C.ipynb\" target=\"_parent\"><img src=\"https://colab.research.google.com/assets/colab-badge.svg\" alt=\"Open In Colab\"/></a>"
      ]
    },
    {
      "cell_type": "markdown",
      "metadata": {
        "id": "b_5r_UdG2-R-",
        "colab_type": "text"
      },
      "source": [
        "# 第5回課題\n",
        "第5回課題では，以下の項目を満たすように分析してください．\n",
        "\n",
        "明確な解答は用意していませんが，少なくとも間違っていないと言える推論をするようにしてください．\n",
        "\n",
        "- データの取得\n",
        "- データの確認\n",
        " - 特徴量の確認\n",
        " - ラベルの確認\n",
        "- 仮説を立てる\n",
        "- データの分析\n",
        "- モデルの訓練\n",
        "- 予測\n",
        "- 精度の確認\n",
        "- 仮説の確認"
      ]
    },
    {
      "cell_type": "markdown",
      "metadata": {
        "id": "5Tyuxi7j2-R_",
        "colab_type": "text"
      },
      "source": [
        "# データの取得\n",
        "wine data 以外を利用してデータ分析してください．\n",
        "\n",
        "なるべく，ラベルと属性から推論が立てやすいデータを選択するとやりやすいです．"
      ]
    },
    {
      "cell_type": "code",
      "metadata": {
        "id": "huSUcWSW2-SA",
        "colab_type": "code",
        "colab": {}
      },
      "source": [
        "import matplotlib.pyplot as plt\n",
        "import numpy as np\n",
        "import pandas as pd\n",
        "from sklearn.datasets import load_boston"
      ],
      "execution_count": 0,
      "outputs": []
    },
    {
      "cell_type": "code",
      "metadata": {
        "id": "yl0_G4Ff1AI4",
        "colab_type": "code",
        "colab": {}
      },
      "source": [
        "data = load_boston()"
      ],
      "execution_count": 0,
      "outputs": []
    },
    {
      "cell_type": "markdown",
      "metadata": {
        "id": "6QBi0D132-SF",
        "colab_type": "text"
      },
      "source": [
        "# データの確認\n",
        "データ分析以前にわかることを確認．特徴量の属性やドメイン知識など\n",
        "- 特徴量の確認\n",
        "- ラベルの確認"
      ]
    },
    {
      "cell_type": "code",
      "metadata": {
        "id": "2qMcCtpY2-SG",
        "colab_type": "code",
        "outputId": "0d47e051-57ae-4cdd-8998-08ffb535d594",
        "colab": {
          "base_uri": "https://localhost:8080/",
          "height": 34
        }
      },
      "source": [
        "data.keys()"
      ],
      "execution_count": 3,
      "outputs": [
        {
          "output_type": "execute_result",
          "data": {
            "text/plain": [
              "dict_keys(['data', 'target', 'feature_names', 'DESCR', 'filename'])"
            ]
          },
          "metadata": {
            "tags": []
          },
          "execution_count": 3
        }
      ]
    },
    {
      "cell_type": "code",
      "metadata": {
        "id": "CEDQVFDN1QS5",
        "colab_type": "code",
        "outputId": "5746b82d-ac7f-4af5-f219-e35ba5b6b0e4",
        "colab": {
          "base_uri": "https://localhost:8080/",
          "height": 51
        }
      },
      "source": [
        "data[\"feature_names\"]"
      ],
      "execution_count": 4,
      "outputs": [
        {
          "output_type": "execute_result",
          "data": {
            "text/plain": [
              "array(['CRIM', 'ZN', 'INDUS', 'CHAS', 'NOX', 'RM', 'AGE', 'DIS', 'RAD',\n",
              "       'TAX', 'PTRATIO', 'B', 'LSTAT'], dtype='<U7')"
            ]
          },
          "metadata": {
            "tags": []
          },
          "execution_count": 4
        }
      ]
    },
    {
      "cell_type": "code",
      "metadata": {
        "id": "u8Bi-DRLj_03",
        "colab_type": "code",
        "colab": {}
      },
      "source": [
        "#CRIM 犯罪率\n",
        "#ZN　区画率\n",
        "#INDUS　非小売業の割合\n",
        "#CHAS 川に面していたら１　面してなかったら０\n",
        "#NOX　窒素酸化物濃度\n",
        "#RM　部屋数の平均\n",
        "#AGE　1940年に建てられた家の割合\n",
        "#DIS　5つのボストン雇用センターまでの距離の加重\n",
        "#RAD　環状高速道路の数\n",
        "#TAX　固定資産税率\n",
        "#PTRATIO　生徒と教師の割合\n",
        "#B　黒人の割合\n",
        "#LSTAT　人口減少の度合い"
      ],
      "execution_count": 0,
      "outputs": []
    },
    {
      "cell_type": "markdown",
      "metadata": {
        "id": "bEx5DABy2-SJ",
        "colab_type": "text"
      },
      "source": [
        "# 仮説を立てる\n",
        "データについて，導きたい仮説と結論を整理してください．"
      ]
    },
    {
      "cell_type": "markdown",
      "metadata": {
        "id": "8qbhrGmZ2-SK",
        "colab_type": "text"
      },
      "source": [
        "固定資産税が高いと、住宅価格が高くなると予想した。\n",
        "また、住宅価格が高いものは、固定資産税も高いと予想した。\n",
        "また、固定資産税率が高い条件に犯罪率、平均の部屋の数が関わっていると予想した。"
      ]
    },
    {
      "cell_type": "markdown",
      "metadata": {
        "id": "XrzCmfc02-SL",
        "colab_type": "text"
      },
      "source": [
        "# データの分析"
      ]
    },
    {
      "cell_type": "code",
      "metadata": {
        "id": "mPGtkqpWorRp",
        "colab_type": "code",
        "colab": {}
      },
      "source": [
        "boston_df = pd.DataFrame(data[\"data\"], columns=data[\"feature_names\"])\n",
        "boston_df = pd.concat([boston_df, pd.DataFrame(data[\"target\"], columns=[\"target\"])], axis=1)"
      ],
      "execution_count": 0,
      "outputs": []
    },
    {
      "cell_type": "code",
      "metadata": {
        "id": "UdHo-uUxoSfg",
        "colab_type": "code",
        "outputId": "fd5cc48f-3e17-491e-9e6f-a53f999d6919",
        "colab": {
          "base_uri": "https://localhost:8080/",
          "height": 204
        }
      },
      "source": [
        "boston_df.head()"
      ],
      "execution_count": 7,
      "outputs": [
        {
          "output_type": "execute_result",
          "data": {
            "text/html": [
              "<div>\n",
              "<style scoped>\n",
              "    .dataframe tbody tr th:only-of-type {\n",
              "        vertical-align: middle;\n",
              "    }\n",
              "\n",
              "    .dataframe tbody tr th {\n",
              "        vertical-align: top;\n",
              "    }\n",
              "\n",
              "    .dataframe thead th {\n",
              "        text-align: right;\n",
              "    }\n",
              "</style>\n",
              "<table border=\"1\" class=\"dataframe\">\n",
              "  <thead>\n",
              "    <tr style=\"text-align: right;\">\n",
              "      <th></th>\n",
              "      <th>CRIM</th>\n",
              "      <th>ZN</th>\n",
              "      <th>INDUS</th>\n",
              "      <th>CHAS</th>\n",
              "      <th>NOX</th>\n",
              "      <th>RM</th>\n",
              "      <th>AGE</th>\n",
              "      <th>DIS</th>\n",
              "      <th>RAD</th>\n",
              "      <th>TAX</th>\n",
              "      <th>PTRATIO</th>\n",
              "      <th>B</th>\n",
              "      <th>LSTAT</th>\n",
              "      <th>target</th>\n",
              "    </tr>\n",
              "  </thead>\n",
              "  <tbody>\n",
              "    <tr>\n",
              "      <th>0</th>\n",
              "      <td>0.00632</td>\n",
              "      <td>18.0</td>\n",
              "      <td>2.31</td>\n",
              "      <td>0.0</td>\n",
              "      <td>0.538</td>\n",
              "      <td>6.575</td>\n",
              "      <td>65.2</td>\n",
              "      <td>4.0900</td>\n",
              "      <td>1.0</td>\n",
              "      <td>296.0</td>\n",
              "      <td>15.3</td>\n",
              "      <td>396.90</td>\n",
              "      <td>4.98</td>\n",
              "      <td>24.0</td>\n",
              "    </tr>\n",
              "    <tr>\n",
              "      <th>1</th>\n",
              "      <td>0.02731</td>\n",
              "      <td>0.0</td>\n",
              "      <td>7.07</td>\n",
              "      <td>0.0</td>\n",
              "      <td>0.469</td>\n",
              "      <td>6.421</td>\n",
              "      <td>78.9</td>\n",
              "      <td>4.9671</td>\n",
              "      <td>2.0</td>\n",
              "      <td>242.0</td>\n",
              "      <td>17.8</td>\n",
              "      <td>396.90</td>\n",
              "      <td>9.14</td>\n",
              "      <td>21.6</td>\n",
              "    </tr>\n",
              "    <tr>\n",
              "      <th>2</th>\n",
              "      <td>0.02729</td>\n",
              "      <td>0.0</td>\n",
              "      <td>7.07</td>\n",
              "      <td>0.0</td>\n",
              "      <td>0.469</td>\n",
              "      <td>7.185</td>\n",
              "      <td>61.1</td>\n",
              "      <td>4.9671</td>\n",
              "      <td>2.0</td>\n",
              "      <td>242.0</td>\n",
              "      <td>17.8</td>\n",
              "      <td>392.83</td>\n",
              "      <td>4.03</td>\n",
              "      <td>34.7</td>\n",
              "    </tr>\n",
              "    <tr>\n",
              "      <th>3</th>\n",
              "      <td>0.03237</td>\n",
              "      <td>0.0</td>\n",
              "      <td>2.18</td>\n",
              "      <td>0.0</td>\n",
              "      <td>0.458</td>\n",
              "      <td>6.998</td>\n",
              "      <td>45.8</td>\n",
              "      <td>6.0622</td>\n",
              "      <td>3.0</td>\n",
              "      <td>222.0</td>\n",
              "      <td>18.7</td>\n",
              "      <td>394.63</td>\n",
              "      <td>2.94</td>\n",
              "      <td>33.4</td>\n",
              "    </tr>\n",
              "    <tr>\n",
              "      <th>4</th>\n",
              "      <td>0.06905</td>\n",
              "      <td>0.0</td>\n",
              "      <td>2.18</td>\n",
              "      <td>0.0</td>\n",
              "      <td>0.458</td>\n",
              "      <td>7.147</td>\n",
              "      <td>54.2</td>\n",
              "      <td>6.0622</td>\n",
              "      <td>3.0</td>\n",
              "      <td>222.0</td>\n",
              "      <td>18.7</td>\n",
              "      <td>396.90</td>\n",
              "      <td>5.33</td>\n",
              "      <td>36.2</td>\n",
              "    </tr>\n",
              "  </tbody>\n",
              "</table>\n",
              "</div>"
            ],
            "text/plain": [
              "      CRIM    ZN  INDUS  CHAS    NOX  ...    TAX  PTRATIO       B  LSTAT  target\n",
              "0  0.00632  18.0   2.31   0.0  0.538  ...  296.0     15.3  396.90   4.98    24.0\n",
              "1  0.02731   0.0   7.07   0.0  0.469  ...  242.0     17.8  396.90   9.14    21.6\n",
              "2  0.02729   0.0   7.07   0.0  0.469  ...  242.0     17.8  392.83   4.03    34.7\n",
              "3  0.03237   0.0   2.18   0.0  0.458  ...  222.0     18.7  394.63   2.94    33.4\n",
              "4  0.06905   0.0   2.18   0.0  0.458  ...  222.0     18.7  396.90   5.33    36.2\n",
              "\n",
              "[5 rows x 14 columns]"
            ]
          },
          "metadata": {
            "tags": []
          },
          "execution_count": 7
        }
      ]
    },
    {
      "cell_type": "code",
      "metadata": {
        "id": "vRRclM4boUyU",
        "colab_type": "code",
        "outputId": "099e9fcf-a42f-4be2-b212-b73f685d4d2e",
        "colab": {
          "base_uri": "https://localhost:8080/",
          "height": 317
        }
      },
      "source": [
        "boston_df.describe()"
      ],
      "execution_count": 8,
      "outputs": [
        {
          "output_type": "execute_result",
          "data": {
            "text/html": [
              "<div>\n",
              "<style scoped>\n",
              "    .dataframe tbody tr th:only-of-type {\n",
              "        vertical-align: middle;\n",
              "    }\n",
              "\n",
              "    .dataframe tbody tr th {\n",
              "        vertical-align: top;\n",
              "    }\n",
              "\n",
              "    .dataframe thead th {\n",
              "        text-align: right;\n",
              "    }\n",
              "</style>\n",
              "<table border=\"1\" class=\"dataframe\">\n",
              "  <thead>\n",
              "    <tr style=\"text-align: right;\">\n",
              "      <th></th>\n",
              "      <th>CRIM</th>\n",
              "      <th>ZN</th>\n",
              "      <th>INDUS</th>\n",
              "      <th>CHAS</th>\n",
              "      <th>NOX</th>\n",
              "      <th>RM</th>\n",
              "      <th>AGE</th>\n",
              "      <th>DIS</th>\n",
              "      <th>RAD</th>\n",
              "      <th>TAX</th>\n",
              "      <th>PTRATIO</th>\n",
              "      <th>B</th>\n",
              "      <th>LSTAT</th>\n",
              "      <th>target</th>\n",
              "    </tr>\n",
              "  </thead>\n",
              "  <tbody>\n",
              "    <tr>\n",
              "      <th>count</th>\n",
              "      <td>506.000000</td>\n",
              "      <td>506.000000</td>\n",
              "      <td>506.000000</td>\n",
              "      <td>506.000000</td>\n",
              "      <td>506.000000</td>\n",
              "      <td>506.000000</td>\n",
              "      <td>506.000000</td>\n",
              "      <td>506.000000</td>\n",
              "      <td>506.000000</td>\n",
              "      <td>506.000000</td>\n",
              "      <td>506.000000</td>\n",
              "      <td>506.000000</td>\n",
              "      <td>506.000000</td>\n",
              "      <td>506.000000</td>\n",
              "    </tr>\n",
              "    <tr>\n",
              "      <th>mean</th>\n",
              "      <td>3.613524</td>\n",
              "      <td>11.363636</td>\n",
              "      <td>11.136779</td>\n",
              "      <td>0.069170</td>\n",
              "      <td>0.554695</td>\n",
              "      <td>6.284634</td>\n",
              "      <td>68.574901</td>\n",
              "      <td>3.795043</td>\n",
              "      <td>9.549407</td>\n",
              "      <td>408.237154</td>\n",
              "      <td>18.455534</td>\n",
              "      <td>356.674032</td>\n",
              "      <td>12.653063</td>\n",
              "      <td>22.532806</td>\n",
              "    </tr>\n",
              "    <tr>\n",
              "      <th>std</th>\n",
              "      <td>8.601545</td>\n",
              "      <td>23.322453</td>\n",
              "      <td>6.860353</td>\n",
              "      <td>0.253994</td>\n",
              "      <td>0.115878</td>\n",
              "      <td>0.702617</td>\n",
              "      <td>28.148861</td>\n",
              "      <td>2.105710</td>\n",
              "      <td>8.707259</td>\n",
              "      <td>168.537116</td>\n",
              "      <td>2.164946</td>\n",
              "      <td>91.294864</td>\n",
              "      <td>7.141062</td>\n",
              "      <td>9.197104</td>\n",
              "    </tr>\n",
              "    <tr>\n",
              "      <th>min</th>\n",
              "      <td>0.006320</td>\n",
              "      <td>0.000000</td>\n",
              "      <td>0.460000</td>\n",
              "      <td>0.000000</td>\n",
              "      <td>0.385000</td>\n",
              "      <td>3.561000</td>\n",
              "      <td>2.900000</td>\n",
              "      <td>1.129600</td>\n",
              "      <td>1.000000</td>\n",
              "      <td>187.000000</td>\n",
              "      <td>12.600000</td>\n",
              "      <td>0.320000</td>\n",
              "      <td>1.730000</td>\n",
              "      <td>5.000000</td>\n",
              "    </tr>\n",
              "    <tr>\n",
              "      <th>25%</th>\n",
              "      <td>0.082045</td>\n",
              "      <td>0.000000</td>\n",
              "      <td>5.190000</td>\n",
              "      <td>0.000000</td>\n",
              "      <td>0.449000</td>\n",
              "      <td>5.885500</td>\n",
              "      <td>45.025000</td>\n",
              "      <td>2.100175</td>\n",
              "      <td>4.000000</td>\n",
              "      <td>279.000000</td>\n",
              "      <td>17.400000</td>\n",
              "      <td>375.377500</td>\n",
              "      <td>6.950000</td>\n",
              "      <td>17.025000</td>\n",
              "    </tr>\n",
              "    <tr>\n",
              "      <th>50%</th>\n",
              "      <td>0.256510</td>\n",
              "      <td>0.000000</td>\n",
              "      <td>9.690000</td>\n",
              "      <td>0.000000</td>\n",
              "      <td>0.538000</td>\n",
              "      <td>6.208500</td>\n",
              "      <td>77.500000</td>\n",
              "      <td>3.207450</td>\n",
              "      <td>5.000000</td>\n",
              "      <td>330.000000</td>\n",
              "      <td>19.050000</td>\n",
              "      <td>391.440000</td>\n",
              "      <td>11.360000</td>\n",
              "      <td>21.200000</td>\n",
              "    </tr>\n",
              "    <tr>\n",
              "      <th>75%</th>\n",
              "      <td>3.677083</td>\n",
              "      <td>12.500000</td>\n",
              "      <td>18.100000</td>\n",
              "      <td>0.000000</td>\n",
              "      <td>0.624000</td>\n",
              "      <td>6.623500</td>\n",
              "      <td>94.075000</td>\n",
              "      <td>5.188425</td>\n",
              "      <td>24.000000</td>\n",
              "      <td>666.000000</td>\n",
              "      <td>20.200000</td>\n",
              "      <td>396.225000</td>\n",
              "      <td>16.955000</td>\n",
              "      <td>25.000000</td>\n",
              "    </tr>\n",
              "    <tr>\n",
              "      <th>max</th>\n",
              "      <td>88.976200</td>\n",
              "      <td>100.000000</td>\n",
              "      <td>27.740000</td>\n",
              "      <td>1.000000</td>\n",
              "      <td>0.871000</td>\n",
              "      <td>8.780000</td>\n",
              "      <td>100.000000</td>\n",
              "      <td>12.126500</td>\n",
              "      <td>24.000000</td>\n",
              "      <td>711.000000</td>\n",
              "      <td>22.000000</td>\n",
              "      <td>396.900000</td>\n",
              "      <td>37.970000</td>\n",
              "      <td>50.000000</td>\n",
              "    </tr>\n",
              "  </tbody>\n",
              "</table>\n",
              "</div>"
            ],
            "text/plain": [
              "             CRIM          ZN       INDUS  ...           B       LSTAT      target\n",
              "count  506.000000  506.000000  506.000000  ...  506.000000  506.000000  506.000000\n",
              "mean     3.613524   11.363636   11.136779  ...  356.674032   12.653063   22.532806\n",
              "std      8.601545   23.322453    6.860353  ...   91.294864    7.141062    9.197104\n",
              "min      0.006320    0.000000    0.460000  ...    0.320000    1.730000    5.000000\n",
              "25%      0.082045    0.000000    5.190000  ...  375.377500    6.950000   17.025000\n",
              "50%      0.256510    0.000000    9.690000  ...  391.440000   11.360000   21.200000\n",
              "75%      3.677083   12.500000   18.100000  ...  396.225000   16.955000   25.000000\n",
              "max     88.976200  100.000000   27.740000  ...  396.900000   37.970000   50.000000\n",
              "\n",
              "[8 rows x 14 columns]"
            ]
          },
          "metadata": {
            "tags": []
          },
          "execution_count": 8
        }
      ]
    },
    {
      "cell_type": "code",
      "metadata": {
        "id": "uvjQbUQMp-ta",
        "colab_type": "code",
        "outputId": "a6fb74e8-6143-4872-a981-06bcf9a26c6b",
        "colab": {
          "base_uri": "https://localhost:8080/",
          "height": 374
        }
      },
      "source": [
        "boston_df.info()"
      ],
      "execution_count": 9,
      "outputs": [
        {
          "output_type": "stream",
          "text": [
            "<class 'pandas.core.frame.DataFrame'>\n",
            "RangeIndex: 506 entries, 0 to 505\n",
            "Data columns (total 14 columns):\n",
            " #   Column   Non-Null Count  Dtype  \n",
            "---  ------   --------------  -----  \n",
            " 0   CRIM     506 non-null    float64\n",
            " 1   ZN       506 non-null    float64\n",
            " 2   INDUS    506 non-null    float64\n",
            " 3   CHAS     506 non-null    float64\n",
            " 4   NOX      506 non-null    float64\n",
            " 5   RM       506 non-null    float64\n",
            " 6   AGE      506 non-null    float64\n",
            " 7   DIS      506 non-null    float64\n",
            " 8   RAD      506 non-null    float64\n",
            " 9   TAX      506 non-null    float64\n",
            " 10  PTRATIO  506 non-null    float64\n",
            " 11  B        506 non-null    float64\n",
            " 12  LSTAT    506 non-null    float64\n",
            " 13  target   506 non-null    float64\n",
            "dtypes: float64(14)\n",
            "memory usage: 55.5 KB\n"
          ],
          "name": "stdout"
        }
      ]
    },
    {
      "cell_type": "code",
      "metadata": {
        "id": "lIl1F8JsMeQW",
        "colab_type": "code",
        "colab": {}
      },
      "source": [
        "#欠損値がないことがわかった"
      ],
      "execution_count": 0,
      "outputs": []
    },
    {
      "cell_type": "code",
      "metadata": {
        "id": "S5n763ELqYID",
        "colab_type": "code",
        "colab": {}
      },
      "source": [
        "variable = data[\"feature_names\"]"
      ],
      "execution_count": 0,
      "outputs": []
    },
    {
      "cell_type": "code",
      "metadata": {
        "id": "jpJVP2PeoU7u",
        "colab_type": "code",
        "outputId": "e0adacf1-ff68-413b-e188-7328b3293efd",
        "colab": {
          "base_uri": "https://localhost:8080/",
          "height": 255
        }
      },
      "source": [
        "[print(str(i) + str(boston_df[i].unique().shape)) for i in variable]"
      ],
      "execution_count": 12,
      "outputs": [
        {
          "output_type": "stream",
          "text": [
            "CRIM(504,)\n",
            "ZN(26,)\n",
            "INDUS(76,)\n",
            "CHAS(2,)\n",
            "NOX(81,)\n",
            "RM(446,)\n",
            "AGE(356,)\n",
            "DIS(412,)\n",
            "RAD(9,)\n",
            "TAX(66,)\n",
            "PTRATIO(46,)\n",
            "B(357,)\n",
            "LSTAT(455,)\n"
          ],
          "name": "stdout"
        },
        {
          "output_type": "execute_result",
          "data": {
            "text/plain": [
              "[None, None, None, None, None, None, None, None, None, None, None, None, None]"
            ]
          },
          "metadata": {
            "tags": []
          },
          "execution_count": 12
        }
      ]
    },
    {
      "cell_type": "code",
      "metadata": {
        "id": "YwyEFKaGoU_Y",
        "colab_type": "code",
        "colab": {}
      },
      "source": [
        "#CHASは２値のcategorical変数である\n",
        "#RADから最大の高速道路の個数は９個\n",
        "#また、TAX（固定資産税）が６６種類あることから何軒か同じ条件が揃っている\n",
        "#固定資産税について調べてみたところ、住むのにいい条件が揃っていると高くなるものであったため、犯罪率、平均の部屋の数などは快適、便利な条件と受け取れるため重要なものと考える。"
      ],
      "execution_count": 0,
      "outputs": []
    },
    {
      "cell_type": "code",
      "metadata": {
        "id": "WQkr1FaPNEbL",
        "colab_type": "code",
        "colab": {}
      },
      "source": [
        "#そのため、犯罪率と平均の部屋の数、固定資産税率の値を２乗することで重要性を挙げてみる。\n",
        "#ただ、正当性のない憶測なので２乗したデータとしてないデータの２種類を使い比較する。"
      ],
      "execution_count": 0,
      "outputs": []
    },
    {
      "cell_type": "code",
      "metadata": {
        "id": "rBD78Qnbhclw",
        "colab_type": "code",
        "colab": {}
      },
      "source": [
        "boston_df = pd.concat([boston_df, pd.get_dummies(boston_df[\"CHAS\"], prefix=\"CHAS\")], axis=1)"
      ],
      "execution_count": 0,
      "outputs": []
    },
    {
      "cell_type": "code",
      "metadata": {
        "id": "gyYqAEWfmhcN",
        "colab_type": "code",
        "colab": {}
      },
      "source": [
        "variable =['CRIM', 'ZN', 'INDUS', 'CHAS', 'NOX', 'RM', 'AGE', 'DIS', 'RAD','TAX', 'PTRATIO', 'B', 'LSTAT',\"CHAS_0.0\",\"CHAS_1.0\"]"
      ],
      "execution_count": 0,
      "outputs": []
    },
    {
      "cell_type": "code",
      "metadata": {
        "id": "tIgS9I8So6uQ",
        "colab_type": "code",
        "colab": {
          "base_uri": "https://localhost:8080/",
          "height": 204
        },
        "outputId": "21b9ad7a-3aaf-41ff-df23-df2c2738f488"
      },
      "source": [
        "boston_df.head()"
      ],
      "execution_count": 17,
      "outputs": [
        {
          "output_type": "execute_result",
          "data": {
            "text/html": [
              "<div>\n",
              "<style scoped>\n",
              "    .dataframe tbody tr th:only-of-type {\n",
              "        vertical-align: middle;\n",
              "    }\n",
              "\n",
              "    .dataframe tbody tr th {\n",
              "        vertical-align: top;\n",
              "    }\n",
              "\n",
              "    .dataframe thead th {\n",
              "        text-align: right;\n",
              "    }\n",
              "</style>\n",
              "<table border=\"1\" class=\"dataframe\">\n",
              "  <thead>\n",
              "    <tr style=\"text-align: right;\">\n",
              "      <th></th>\n",
              "      <th>CRIM</th>\n",
              "      <th>ZN</th>\n",
              "      <th>INDUS</th>\n",
              "      <th>CHAS</th>\n",
              "      <th>NOX</th>\n",
              "      <th>RM</th>\n",
              "      <th>AGE</th>\n",
              "      <th>DIS</th>\n",
              "      <th>RAD</th>\n",
              "      <th>TAX</th>\n",
              "      <th>PTRATIO</th>\n",
              "      <th>B</th>\n",
              "      <th>LSTAT</th>\n",
              "      <th>target</th>\n",
              "      <th>CHAS_0.0</th>\n",
              "      <th>CHAS_1.0</th>\n",
              "    </tr>\n",
              "  </thead>\n",
              "  <tbody>\n",
              "    <tr>\n",
              "      <th>0</th>\n",
              "      <td>0.00632</td>\n",
              "      <td>18.0</td>\n",
              "      <td>2.31</td>\n",
              "      <td>0.0</td>\n",
              "      <td>0.538</td>\n",
              "      <td>6.575</td>\n",
              "      <td>65.2</td>\n",
              "      <td>4.0900</td>\n",
              "      <td>1.0</td>\n",
              "      <td>296.0</td>\n",
              "      <td>15.3</td>\n",
              "      <td>396.90</td>\n",
              "      <td>4.98</td>\n",
              "      <td>24.0</td>\n",
              "      <td>1</td>\n",
              "      <td>0</td>\n",
              "    </tr>\n",
              "    <tr>\n",
              "      <th>1</th>\n",
              "      <td>0.02731</td>\n",
              "      <td>0.0</td>\n",
              "      <td>7.07</td>\n",
              "      <td>0.0</td>\n",
              "      <td>0.469</td>\n",
              "      <td>6.421</td>\n",
              "      <td>78.9</td>\n",
              "      <td>4.9671</td>\n",
              "      <td>2.0</td>\n",
              "      <td>242.0</td>\n",
              "      <td>17.8</td>\n",
              "      <td>396.90</td>\n",
              "      <td>9.14</td>\n",
              "      <td>21.6</td>\n",
              "      <td>1</td>\n",
              "      <td>0</td>\n",
              "    </tr>\n",
              "    <tr>\n",
              "      <th>2</th>\n",
              "      <td>0.02729</td>\n",
              "      <td>0.0</td>\n",
              "      <td>7.07</td>\n",
              "      <td>0.0</td>\n",
              "      <td>0.469</td>\n",
              "      <td>7.185</td>\n",
              "      <td>61.1</td>\n",
              "      <td>4.9671</td>\n",
              "      <td>2.0</td>\n",
              "      <td>242.0</td>\n",
              "      <td>17.8</td>\n",
              "      <td>392.83</td>\n",
              "      <td>4.03</td>\n",
              "      <td>34.7</td>\n",
              "      <td>1</td>\n",
              "      <td>0</td>\n",
              "    </tr>\n",
              "    <tr>\n",
              "      <th>3</th>\n",
              "      <td>0.03237</td>\n",
              "      <td>0.0</td>\n",
              "      <td>2.18</td>\n",
              "      <td>0.0</td>\n",
              "      <td>0.458</td>\n",
              "      <td>6.998</td>\n",
              "      <td>45.8</td>\n",
              "      <td>6.0622</td>\n",
              "      <td>3.0</td>\n",
              "      <td>222.0</td>\n",
              "      <td>18.7</td>\n",
              "      <td>394.63</td>\n",
              "      <td>2.94</td>\n",
              "      <td>33.4</td>\n",
              "      <td>1</td>\n",
              "      <td>0</td>\n",
              "    </tr>\n",
              "    <tr>\n",
              "      <th>4</th>\n",
              "      <td>0.06905</td>\n",
              "      <td>0.0</td>\n",
              "      <td>2.18</td>\n",
              "      <td>0.0</td>\n",
              "      <td>0.458</td>\n",
              "      <td>7.147</td>\n",
              "      <td>54.2</td>\n",
              "      <td>6.0622</td>\n",
              "      <td>3.0</td>\n",
              "      <td>222.0</td>\n",
              "      <td>18.7</td>\n",
              "      <td>396.90</td>\n",
              "      <td>5.33</td>\n",
              "      <td>36.2</td>\n",
              "      <td>1</td>\n",
              "      <td>0</td>\n",
              "    </tr>\n",
              "  </tbody>\n",
              "</table>\n",
              "</div>"
            ],
            "text/plain": [
              "      CRIM    ZN  INDUS  CHAS    NOX  ...       B  LSTAT  target  CHAS_0.0  CHAS_1.0\n",
              "0  0.00632  18.0   2.31   0.0  0.538  ...  396.90   4.98    24.0         1         0\n",
              "1  0.02731   0.0   7.07   0.0  0.469  ...  396.90   9.14    21.6         1         0\n",
              "2  0.02729   0.0   7.07   0.0  0.469  ...  392.83   4.03    34.7         1         0\n",
              "3  0.03237   0.0   2.18   0.0  0.458  ...  394.63   2.94    33.4         1         0\n",
              "4  0.06905   0.0   2.18   0.0  0.458  ...  396.90   5.33    36.2         1         0\n",
              "\n",
              "[5 rows x 16 columns]"
            ]
          },
          "metadata": {
            "tags": []
          },
          "execution_count": 17
        }
      ]
    },
    {
      "cell_type": "code",
      "metadata": {
        "id": "y4KvRfFEOVbW",
        "colab_type": "code",
        "colab": {}
      },
      "source": [
        "boston2_df = boston_df\n",
        "variable_CRT = [\"CRIM\",\"RM\",\"TAX\"]\n",
        "boston2_df[\"CRIM\"] = boston2_df[\"CRIM\"] * boston2_df[\"CRIM\"]\n",
        "boston2_df[\"RM\"] = boston2_df[\"RM\"] * boston2_df[\"RM\"]\n",
        "boston2_df[\"TAX\"] = boston2_df[\"TAX\"] * boston2_df[\"TAX\"]"
      ],
      "execution_count": 0,
      "outputs": []
    },
    {
      "cell_type": "code",
      "metadata": {
        "id": "nlmLZcUOpZ_-",
        "colab_type": "code",
        "colab": {
          "base_uri": "https://localhost:8080/",
          "height": 204
        },
        "outputId": "051432ec-5448-4323-9451-1e2bf82b38d4"
      },
      "source": [
        "boston2_df.head()"
      ],
      "execution_count": 19,
      "outputs": [
        {
          "output_type": "execute_result",
          "data": {
            "text/html": [
              "<div>\n",
              "<style scoped>\n",
              "    .dataframe tbody tr th:only-of-type {\n",
              "        vertical-align: middle;\n",
              "    }\n",
              "\n",
              "    .dataframe tbody tr th {\n",
              "        vertical-align: top;\n",
              "    }\n",
              "\n",
              "    .dataframe thead th {\n",
              "        text-align: right;\n",
              "    }\n",
              "</style>\n",
              "<table border=\"1\" class=\"dataframe\">\n",
              "  <thead>\n",
              "    <tr style=\"text-align: right;\">\n",
              "      <th></th>\n",
              "      <th>CRIM</th>\n",
              "      <th>ZN</th>\n",
              "      <th>INDUS</th>\n",
              "      <th>CHAS</th>\n",
              "      <th>NOX</th>\n",
              "      <th>RM</th>\n",
              "      <th>AGE</th>\n",
              "      <th>DIS</th>\n",
              "      <th>RAD</th>\n",
              "      <th>TAX</th>\n",
              "      <th>PTRATIO</th>\n",
              "      <th>B</th>\n",
              "      <th>LSTAT</th>\n",
              "      <th>target</th>\n",
              "      <th>CHAS_0.0</th>\n",
              "      <th>CHAS_1.0</th>\n",
              "    </tr>\n",
              "  </thead>\n",
              "  <tbody>\n",
              "    <tr>\n",
              "      <th>0</th>\n",
              "      <td>0.000040</td>\n",
              "      <td>18.0</td>\n",
              "      <td>2.31</td>\n",
              "      <td>0.0</td>\n",
              "      <td>0.538</td>\n",
              "      <td>43.230625</td>\n",
              "      <td>65.2</td>\n",
              "      <td>4.0900</td>\n",
              "      <td>1.0</td>\n",
              "      <td>87616.0</td>\n",
              "      <td>15.3</td>\n",
              "      <td>396.90</td>\n",
              "      <td>4.98</td>\n",
              "      <td>24.0</td>\n",
              "      <td>1</td>\n",
              "      <td>0</td>\n",
              "    </tr>\n",
              "    <tr>\n",
              "      <th>1</th>\n",
              "      <td>0.000746</td>\n",
              "      <td>0.0</td>\n",
              "      <td>7.07</td>\n",
              "      <td>0.0</td>\n",
              "      <td>0.469</td>\n",
              "      <td>41.229241</td>\n",
              "      <td>78.9</td>\n",
              "      <td>4.9671</td>\n",
              "      <td>2.0</td>\n",
              "      <td>58564.0</td>\n",
              "      <td>17.8</td>\n",
              "      <td>396.90</td>\n",
              "      <td>9.14</td>\n",
              "      <td>21.6</td>\n",
              "      <td>1</td>\n",
              "      <td>0</td>\n",
              "    </tr>\n",
              "    <tr>\n",
              "      <th>2</th>\n",
              "      <td>0.000745</td>\n",
              "      <td>0.0</td>\n",
              "      <td>7.07</td>\n",
              "      <td>0.0</td>\n",
              "      <td>0.469</td>\n",
              "      <td>51.624225</td>\n",
              "      <td>61.1</td>\n",
              "      <td>4.9671</td>\n",
              "      <td>2.0</td>\n",
              "      <td>58564.0</td>\n",
              "      <td>17.8</td>\n",
              "      <td>392.83</td>\n",
              "      <td>4.03</td>\n",
              "      <td>34.7</td>\n",
              "      <td>1</td>\n",
              "      <td>0</td>\n",
              "    </tr>\n",
              "    <tr>\n",
              "      <th>3</th>\n",
              "      <td>0.001048</td>\n",
              "      <td>0.0</td>\n",
              "      <td>2.18</td>\n",
              "      <td>0.0</td>\n",
              "      <td>0.458</td>\n",
              "      <td>48.972004</td>\n",
              "      <td>45.8</td>\n",
              "      <td>6.0622</td>\n",
              "      <td>3.0</td>\n",
              "      <td>49284.0</td>\n",
              "      <td>18.7</td>\n",
              "      <td>394.63</td>\n",
              "      <td>2.94</td>\n",
              "      <td>33.4</td>\n",
              "      <td>1</td>\n",
              "      <td>0</td>\n",
              "    </tr>\n",
              "    <tr>\n",
              "      <th>4</th>\n",
              "      <td>0.004768</td>\n",
              "      <td>0.0</td>\n",
              "      <td>2.18</td>\n",
              "      <td>0.0</td>\n",
              "      <td>0.458</td>\n",
              "      <td>51.079609</td>\n",
              "      <td>54.2</td>\n",
              "      <td>6.0622</td>\n",
              "      <td>3.0</td>\n",
              "      <td>49284.0</td>\n",
              "      <td>18.7</td>\n",
              "      <td>396.90</td>\n",
              "      <td>5.33</td>\n",
              "      <td>36.2</td>\n",
              "      <td>1</td>\n",
              "      <td>0</td>\n",
              "    </tr>\n",
              "  </tbody>\n",
              "</table>\n",
              "</div>"
            ],
            "text/plain": [
              "       CRIM    ZN  INDUS  CHAS  ...  LSTAT  target  CHAS_0.0  CHAS_1.0\n",
              "0  0.000040  18.0   2.31   0.0  ...   4.98    24.0         1         0\n",
              "1  0.000746   0.0   7.07   0.0  ...   9.14    21.6         1         0\n",
              "2  0.000745   0.0   7.07   0.0  ...   4.03    34.7         1         0\n",
              "3  0.001048   0.0   2.18   0.0  ...   2.94    33.4         1         0\n",
              "4  0.004768   0.0   2.18   0.0  ...   5.33    36.2         1         0\n",
              "\n",
              "[5 rows x 16 columns]"
            ]
          },
          "metadata": {
            "tags": []
          },
          "execution_count": 19
        }
      ]
    },
    {
      "cell_type": "code",
      "metadata": {
        "id": "iACNR2tEC1nf",
        "colab_type": "code",
        "colab": {}
      },
      "source": [
        "df_corr = boston_df.corr()\n",
        "df_corr2 = boston2_df.corr()"
      ],
      "execution_count": 0,
      "outputs": []
    },
    {
      "cell_type": "code",
      "metadata": {
        "id": "2Pk7p9usTah6",
        "colab_type": "code",
        "colab": {
          "base_uri": "https://localhost:8080/",
          "height": 565
        },
        "outputId": "e96c7cc9-44b2-4f3e-e4ca-b2f2e851e03b"
      },
      "source": [
        "df_corr"
      ],
      "execution_count": 21,
      "outputs": [
        {
          "output_type": "execute_result",
          "data": {
            "text/html": [
              "<div>\n",
              "<style scoped>\n",
              "    .dataframe tbody tr th:only-of-type {\n",
              "        vertical-align: middle;\n",
              "    }\n",
              "\n",
              "    .dataframe tbody tr th {\n",
              "        vertical-align: top;\n",
              "    }\n",
              "\n",
              "    .dataframe thead th {\n",
              "        text-align: right;\n",
              "    }\n",
              "</style>\n",
              "<table border=\"1\" class=\"dataframe\">\n",
              "  <thead>\n",
              "    <tr style=\"text-align: right;\">\n",
              "      <th></th>\n",
              "      <th>CRIM</th>\n",
              "      <th>ZN</th>\n",
              "      <th>INDUS</th>\n",
              "      <th>CHAS</th>\n",
              "      <th>NOX</th>\n",
              "      <th>RM</th>\n",
              "      <th>AGE</th>\n",
              "      <th>DIS</th>\n",
              "      <th>RAD</th>\n",
              "      <th>TAX</th>\n",
              "      <th>PTRATIO</th>\n",
              "      <th>B</th>\n",
              "      <th>LSTAT</th>\n",
              "      <th>target</th>\n",
              "      <th>CHAS_0.0</th>\n",
              "      <th>CHAS_1.0</th>\n",
              "    </tr>\n",
              "  </thead>\n",
              "  <tbody>\n",
              "    <tr>\n",
              "      <th>CRIM</th>\n",
              "      <td>1.000000</td>\n",
              "      <td>-0.082634</td>\n",
              "      <td>0.172073</td>\n",
              "      <td>-0.041163</td>\n",
              "      <td>0.174481</td>\n",
              "      <td>-0.080254</td>\n",
              "      <td>0.158977</td>\n",
              "      <td>-0.174295</td>\n",
              "      <td>0.279830</td>\n",
              "      <td>0.266061</td>\n",
              "      <td>0.135151</td>\n",
              "      <td>-0.191856</td>\n",
              "      <td>0.209275</td>\n",
              "      <td>-0.218837</td>\n",
              "      <td>0.041163</td>\n",
              "      <td>-0.041163</td>\n",
              "    </tr>\n",
              "    <tr>\n",
              "      <th>ZN</th>\n",
              "      <td>-0.082634</td>\n",
              "      <td>1.000000</td>\n",
              "      <td>-0.533828</td>\n",
              "      <td>-0.042697</td>\n",
              "      <td>-0.516604</td>\n",
              "      <td>0.307863</td>\n",
              "      <td>-0.569537</td>\n",
              "      <td>0.664408</td>\n",
              "      <td>-0.311948</td>\n",
              "      <td>-0.314988</td>\n",
              "      <td>-0.391679</td>\n",
              "      <td>0.175520</td>\n",
              "      <td>-0.412995</td>\n",
              "      <td>0.360445</td>\n",
              "      <td>0.042697</td>\n",
              "      <td>-0.042697</td>\n",
              "    </tr>\n",
              "    <tr>\n",
              "      <th>INDUS</th>\n",
              "      <td>0.172073</td>\n",
              "      <td>-0.533828</td>\n",
              "      <td>1.000000</td>\n",
              "      <td>0.062938</td>\n",
              "      <td>0.763651</td>\n",
              "      <td>-0.382654</td>\n",
              "      <td>0.644779</td>\n",
              "      <td>-0.708027</td>\n",
              "      <td>0.595129</td>\n",
              "      <td>0.716358</td>\n",
              "      <td>0.383248</td>\n",
              "      <td>-0.356977</td>\n",
              "      <td>0.603800</td>\n",
              "      <td>-0.483725</td>\n",
              "      <td>-0.062938</td>\n",
              "      <td>0.062938</td>\n",
              "    </tr>\n",
              "    <tr>\n",
              "      <th>CHAS</th>\n",
              "      <td>-0.041163</td>\n",
              "      <td>-0.042697</td>\n",
              "      <td>0.062938</td>\n",
              "      <td>1.000000</td>\n",
              "      <td>0.091203</td>\n",
              "      <td>0.098034</td>\n",
              "      <td>0.086518</td>\n",
              "      <td>-0.099176</td>\n",
              "      <td>-0.007368</td>\n",
              "      <td>-0.033518</td>\n",
              "      <td>-0.121515</td>\n",
              "      <td>0.048788</td>\n",
              "      <td>-0.053929</td>\n",
              "      <td>0.175260</td>\n",
              "      <td>-1.000000</td>\n",
              "      <td>1.000000</td>\n",
              "    </tr>\n",
              "    <tr>\n",
              "      <th>NOX</th>\n",
              "      <td>0.174481</td>\n",
              "      <td>-0.516604</td>\n",
              "      <td>0.763651</td>\n",
              "      <td>0.091203</td>\n",
              "      <td>1.000000</td>\n",
              "      <td>-0.283930</td>\n",
              "      <td>0.731470</td>\n",
              "      <td>-0.769230</td>\n",
              "      <td>0.611441</td>\n",
              "      <td>0.659892</td>\n",
              "      <td>0.188933</td>\n",
              "      <td>-0.380051</td>\n",
              "      <td>0.590879</td>\n",
              "      <td>-0.427321</td>\n",
              "      <td>-0.091203</td>\n",
              "      <td>0.091203</td>\n",
              "    </tr>\n",
              "    <tr>\n",
              "      <th>RM</th>\n",
              "      <td>-0.080254</td>\n",
              "      <td>0.307863</td>\n",
              "      <td>-0.382654</td>\n",
              "      <td>0.098034</td>\n",
              "      <td>-0.283930</td>\n",
              "      <td>1.000000</td>\n",
              "      <td>-0.222991</td>\n",
              "      <td>0.183715</td>\n",
              "      <td>-0.196734</td>\n",
              "      <td>-0.269352</td>\n",
              "      <td>-0.365443</td>\n",
              "      <td>0.125611</td>\n",
              "      <td>-0.600346</td>\n",
              "      <td>0.718169</td>\n",
              "      <td>-0.098034</td>\n",
              "      <td>0.098034</td>\n",
              "    </tr>\n",
              "    <tr>\n",
              "      <th>AGE</th>\n",
              "      <td>0.158977</td>\n",
              "      <td>-0.569537</td>\n",
              "      <td>0.644779</td>\n",
              "      <td>0.086518</td>\n",
              "      <td>0.731470</td>\n",
              "      <td>-0.222991</td>\n",
              "      <td>1.000000</td>\n",
              "      <td>-0.747881</td>\n",
              "      <td>0.456022</td>\n",
              "      <td>0.503659</td>\n",
              "      <td>0.261515</td>\n",
              "      <td>-0.273534</td>\n",
              "      <td>0.602339</td>\n",
              "      <td>-0.376955</td>\n",
              "      <td>-0.086518</td>\n",
              "      <td>0.086518</td>\n",
              "    </tr>\n",
              "    <tr>\n",
              "      <th>DIS</th>\n",
              "      <td>-0.174295</td>\n",
              "      <td>0.664408</td>\n",
              "      <td>-0.708027</td>\n",
              "      <td>-0.099176</td>\n",
              "      <td>-0.769230</td>\n",
              "      <td>0.183715</td>\n",
              "      <td>-0.747881</td>\n",
              "      <td>1.000000</td>\n",
              "      <td>-0.494588</td>\n",
              "      <td>-0.537830</td>\n",
              "      <td>-0.232471</td>\n",
              "      <td>0.291512</td>\n",
              "      <td>-0.496996</td>\n",
              "      <td>0.249929</td>\n",
              "      <td>0.099176</td>\n",
              "      <td>-0.099176</td>\n",
              "    </tr>\n",
              "    <tr>\n",
              "      <th>RAD</th>\n",
              "      <td>0.279830</td>\n",
              "      <td>-0.311948</td>\n",
              "      <td>0.595129</td>\n",
              "      <td>-0.007368</td>\n",
              "      <td>0.611441</td>\n",
              "      <td>-0.196734</td>\n",
              "      <td>0.456022</td>\n",
              "      <td>-0.494588</td>\n",
              "      <td>1.000000</td>\n",
              "      <td>0.932824</td>\n",
              "      <td>0.464741</td>\n",
              "      <td>-0.444413</td>\n",
              "      <td>0.488676</td>\n",
              "      <td>-0.381626</td>\n",
              "      <td>0.007368</td>\n",
              "      <td>-0.007368</td>\n",
              "    </tr>\n",
              "    <tr>\n",
              "      <th>TAX</th>\n",
              "      <td>0.266061</td>\n",
              "      <td>-0.314988</td>\n",
              "      <td>0.716358</td>\n",
              "      <td>-0.033518</td>\n",
              "      <td>0.659892</td>\n",
              "      <td>-0.269352</td>\n",
              "      <td>0.503659</td>\n",
              "      <td>-0.537830</td>\n",
              "      <td>0.932824</td>\n",
              "      <td>1.000000</td>\n",
              "      <td>0.477511</td>\n",
              "      <td>-0.444892</td>\n",
              "      <td>0.544425</td>\n",
              "      <td>-0.457047</td>\n",
              "      <td>0.033518</td>\n",
              "      <td>-0.033518</td>\n",
              "    </tr>\n",
              "    <tr>\n",
              "      <th>PTRATIO</th>\n",
              "      <td>0.135151</td>\n",
              "      <td>-0.391679</td>\n",
              "      <td>0.383248</td>\n",
              "      <td>-0.121515</td>\n",
              "      <td>0.188933</td>\n",
              "      <td>-0.365443</td>\n",
              "      <td>0.261515</td>\n",
              "      <td>-0.232471</td>\n",
              "      <td>0.464741</td>\n",
              "      <td>0.477511</td>\n",
              "      <td>1.000000</td>\n",
              "      <td>-0.177383</td>\n",
              "      <td>0.374044</td>\n",
              "      <td>-0.507787</td>\n",
              "      <td>0.121515</td>\n",
              "      <td>-0.121515</td>\n",
              "    </tr>\n",
              "    <tr>\n",
              "      <th>B</th>\n",
              "      <td>-0.191856</td>\n",
              "      <td>0.175520</td>\n",
              "      <td>-0.356977</td>\n",
              "      <td>0.048788</td>\n",
              "      <td>-0.380051</td>\n",
              "      <td>0.125611</td>\n",
              "      <td>-0.273534</td>\n",
              "      <td>0.291512</td>\n",
              "      <td>-0.444413</td>\n",
              "      <td>-0.444892</td>\n",
              "      <td>-0.177383</td>\n",
              "      <td>1.000000</td>\n",
              "      <td>-0.366087</td>\n",
              "      <td>0.333461</td>\n",
              "      <td>-0.048788</td>\n",
              "      <td>0.048788</td>\n",
              "    </tr>\n",
              "    <tr>\n",
              "      <th>LSTAT</th>\n",
              "      <td>0.209275</td>\n",
              "      <td>-0.412995</td>\n",
              "      <td>0.603800</td>\n",
              "      <td>-0.053929</td>\n",
              "      <td>0.590879</td>\n",
              "      <td>-0.600346</td>\n",
              "      <td>0.602339</td>\n",
              "      <td>-0.496996</td>\n",
              "      <td>0.488676</td>\n",
              "      <td>0.544425</td>\n",
              "      <td>0.374044</td>\n",
              "      <td>-0.366087</td>\n",
              "      <td>1.000000</td>\n",
              "      <td>-0.737663</td>\n",
              "      <td>0.053929</td>\n",
              "      <td>-0.053929</td>\n",
              "    </tr>\n",
              "    <tr>\n",
              "      <th>target</th>\n",
              "      <td>-0.218837</td>\n",
              "      <td>0.360445</td>\n",
              "      <td>-0.483725</td>\n",
              "      <td>0.175260</td>\n",
              "      <td>-0.427321</td>\n",
              "      <td>0.718169</td>\n",
              "      <td>-0.376955</td>\n",
              "      <td>0.249929</td>\n",
              "      <td>-0.381626</td>\n",
              "      <td>-0.457047</td>\n",
              "      <td>-0.507787</td>\n",
              "      <td>0.333461</td>\n",
              "      <td>-0.737663</td>\n",
              "      <td>1.000000</td>\n",
              "      <td>-0.175260</td>\n",
              "      <td>0.175260</td>\n",
              "    </tr>\n",
              "    <tr>\n",
              "      <th>CHAS_0.0</th>\n",
              "      <td>0.041163</td>\n",
              "      <td>0.042697</td>\n",
              "      <td>-0.062938</td>\n",
              "      <td>-1.000000</td>\n",
              "      <td>-0.091203</td>\n",
              "      <td>-0.098034</td>\n",
              "      <td>-0.086518</td>\n",
              "      <td>0.099176</td>\n",
              "      <td>0.007368</td>\n",
              "      <td>0.033518</td>\n",
              "      <td>0.121515</td>\n",
              "      <td>-0.048788</td>\n",
              "      <td>0.053929</td>\n",
              "      <td>-0.175260</td>\n",
              "      <td>1.000000</td>\n",
              "      <td>-1.000000</td>\n",
              "    </tr>\n",
              "    <tr>\n",
              "      <th>CHAS_1.0</th>\n",
              "      <td>-0.041163</td>\n",
              "      <td>-0.042697</td>\n",
              "      <td>0.062938</td>\n",
              "      <td>1.000000</td>\n",
              "      <td>0.091203</td>\n",
              "      <td>0.098034</td>\n",
              "      <td>0.086518</td>\n",
              "      <td>-0.099176</td>\n",
              "      <td>-0.007368</td>\n",
              "      <td>-0.033518</td>\n",
              "      <td>-0.121515</td>\n",
              "      <td>0.048788</td>\n",
              "      <td>-0.053929</td>\n",
              "      <td>0.175260</td>\n",
              "      <td>-1.000000</td>\n",
              "      <td>1.000000</td>\n",
              "    </tr>\n",
              "  </tbody>\n",
              "</table>\n",
              "</div>"
            ],
            "text/plain": [
              "              CRIM        ZN     INDUS  ...    target  CHAS_0.0  CHAS_1.0\n",
              "CRIM      1.000000 -0.082634  0.172073  ... -0.218837  0.041163 -0.041163\n",
              "ZN       -0.082634  1.000000 -0.533828  ...  0.360445  0.042697 -0.042697\n",
              "INDUS     0.172073 -0.533828  1.000000  ... -0.483725 -0.062938  0.062938\n",
              "CHAS     -0.041163 -0.042697  0.062938  ...  0.175260 -1.000000  1.000000\n",
              "NOX       0.174481 -0.516604  0.763651  ... -0.427321 -0.091203  0.091203\n",
              "RM       -0.080254  0.307863 -0.382654  ...  0.718169 -0.098034  0.098034\n",
              "AGE       0.158977 -0.569537  0.644779  ... -0.376955 -0.086518  0.086518\n",
              "DIS      -0.174295  0.664408 -0.708027  ...  0.249929  0.099176 -0.099176\n",
              "RAD       0.279830 -0.311948  0.595129  ... -0.381626  0.007368 -0.007368\n",
              "TAX       0.266061 -0.314988  0.716358  ... -0.457047  0.033518 -0.033518\n",
              "PTRATIO   0.135151 -0.391679  0.383248  ... -0.507787  0.121515 -0.121515\n",
              "B        -0.191856  0.175520 -0.356977  ...  0.333461 -0.048788  0.048788\n",
              "LSTAT     0.209275 -0.412995  0.603800  ... -0.737663  0.053929 -0.053929\n",
              "target   -0.218837  0.360445 -0.483725  ...  1.000000 -0.175260  0.175260\n",
              "CHAS_0.0  0.041163  0.042697 -0.062938  ... -0.175260  1.000000 -1.000000\n",
              "CHAS_1.0 -0.041163 -0.042697  0.062938  ...  0.175260 -1.000000  1.000000\n",
              "\n",
              "[16 rows x 16 columns]"
            ]
          },
          "metadata": {
            "tags": []
          },
          "execution_count": 21
        }
      ]
    },
    {
      "cell_type": "code",
      "metadata": {
        "id": "CEjTO_s9TaoD",
        "colab_type": "code",
        "colab": {
          "base_uri": "https://localhost:8080/",
          "height": 565
        },
        "outputId": "8f4e00c4-e8ad-4c47-e649-0aed94ef90ed"
      },
      "source": [
        "df_corr2"
      ],
      "execution_count": 22,
      "outputs": [
        {
          "output_type": "execute_result",
          "data": {
            "text/html": [
              "<div>\n",
              "<style scoped>\n",
              "    .dataframe tbody tr th:only-of-type {\n",
              "        vertical-align: middle;\n",
              "    }\n",
              "\n",
              "    .dataframe tbody tr th {\n",
              "        vertical-align: top;\n",
              "    }\n",
              "\n",
              "    .dataframe thead th {\n",
              "        text-align: right;\n",
              "    }\n",
              "</style>\n",
              "<table border=\"1\" class=\"dataframe\">\n",
              "  <thead>\n",
              "    <tr style=\"text-align: right;\">\n",
              "      <th></th>\n",
              "      <th>CRIM</th>\n",
              "      <th>ZN</th>\n",
              "      <th>INDUS</th>\n",
              "      <th>CHAS</th>\n",
              "      <th>NOX</th>\n",
              "      <th>RM</th>\n",
              "      <th>AGE</th>\n",
              "      <th>DIS</th>\n",
              "      <th>RAD</th>\n",
              "      <th>TAX</th>\n",
              "      <th>PTRATIO</th>\n",
              "      <th>B</th>\n",
              "      <th>LSTAT</th>\n",
              "      <th>target</th>\n",
              "      <th>CHAS_0.0</th>\n",
              "      <th>CHAS_1.0</th>\n",
              "    </tr>\n",
              "  </thead>\n",
              "  <tbody>\n",
              "    <tr>\n",
              "      <th>CRIM</th>\n",
              "      <td>1.000000</td>\n",
              "      <td>-0.082634</td>\n",
              "      <td>0.172073</td>\n",
              "      <td>-0.041163</td>\n",
              "      <td>0.174481</td>\n",
              "      <td>-0.080254</td>\n",
              "      <td>0.158977</td>\n",
              "      <td>-0.174295</td>\n",
              "      <td>0.279830</td>\n",
              "      <td>0.266061</td>\n",
              "      <td>0.135151</td>\n",
              "      <td>-0.191856</td>\n",
              "      <td>0.209275</td>\n",
              "      <td>-0.218837</td>\n",
              "      <td>0.041163</td>\n",
              "      <td>-0.041163</td>\n",
              "    </tr>\n",
              "    <tr>\n",
              "      <th>ZN</th>\n",
              "      <td>-0.082634</td>\n",
              "      <td>1.000000</td>\n",
              "      <td>-0.533828</td>\n",
              "      <td>-0.042697</td>\n",
              "      <td>-0.516604</td>\n",
              "      <td>0.307863</td>\n",
              "      <td>-0.569537</td>\n",
              "      <td>0.664408</td>\n",
              "      <td>-0.311948</td>\n",
              "      <td>-0.314988</td>\n",
              "      <td>-0.391679</td>\n",
              "      <td>0.175520</td>\n",
              "      <td>-0.412995</td>\n",
              "      <td>0.360445</td>\n",
              "      <td>0.042697</td>\n",
              "      <td>-0.042697</td>\n",
              "    </tr>\n",
              "    <tr>\n",
              "      <th>INDUS</th>\n",
              "      <td>0.172073</td>\n",
              "      <td>-0.533828</td>\n",
              "      <td>1.000000</td>\n",
              "      <td>0.062938</td>\n",
              "      <td>0.763651</td>\n",
              "      <td>-0.382654</td>\n",
              "      <td>0.644779</td>\n",
              "      <td>-0.708027</td>\n",
              "      <td>0.595129</td>\n",
              "      <td>0.716358</td>\n",
              "      <td>0.383248</td>\n",
              "      <td>-0.356977</td>\n",
              "      <td>0.603800</td>\n",
              "      <td>-0.483725</td>\n",
              "      <td>-0.062938</td>\n",
              "      <td>0.062938</td>\n",
              "    </tr>\n",
              "    <tr>\n",
              "      <th>CHAS</th>\n",
              "      <td>-0.041163</td>\n",
              "      <td>-0.042697</td>\n",
              "      <td>0.062938</td>\n",
              "      <td>1.000000</td>\n",
              "      <td>0.091203</td>\n",
              "      <td>0.098034</td>\n",
              "      <td>0.086518</td>\n",
              "      <td>-0.099176</td>\n",
              "      <td>-0.007368</td>\n",
              "      <td>-0.033518</td>\n",
              "      <td>-0.121515</td>\n",
              "      <td>0.048788</td>\n",
              "      <td>-0.053929</td>\n",
              "      <td>0.175260</td>\n",
              "      <td>-1.000000</td>\n",
              "      <td>1.000000</td>\n",
              "    </tr>\n",
              "    <tr>\n",
              "      <th>NOX</th>\n",
              "      <td>0.174481</td>\n",
              "      <td>-0.516604</td>\n",
              "      <td>0.763651</td>\n",
              "      <td>0.091203</td>\n",
              "      <td>1.000000</td>\n",
              "      <td>-0.283930</td>\n",
              "      <td>0.731470</td>\n",
              "      <td>-0.769230</td>\n",
              "      <td>0.611441</td>\n",
              "      <td>0.659892</td>\n",
              "      <td>0.188933</td>\n",
              "      <td>-0.380051</td>\n",
              "      <td>0.590879</td>\n",
              "      <td>-0.427321</td>\n",
              "      <td>-0.091203</td>\n",
              "      <td>0.091203</td>\n",
              "    </tr>\n",
              "    <tr>\n",
              "      <th>RM</th>\n",
              "      <td>-0.080254</td>\n",
              "      <td>0.307863</td>\n",
              "      <td>-0.382654</td>\n",
              "      <td>0.098034</td>\n",
              "      <td>-0.283930</td>\n",
              "      <td>1.000000</td>\n",
              "      <td>-0.222991</td>\n",
              "      <td>0.183715</td>\n",
              "      <td>-0.196734</td>\n",
              "      <td>-0.269352</td>\n",
              "      <td>-0.365443</td>\n",
              "      <td>0.125611</td>\n",
              "      <td>-0.600346</td>\n",
              "      <td>0.718169</td>\n",
              "      <td>-0.098034</td>\n",
              "      <td>0.098034</td>\n",
              "    </tr>\n",
              "    <tr>\n",
              "      <th>AGE</th>\n",
              "      <td>0.158977</td>\n",
              "      <td>-0.569537</td>\n",
              "      <td>0.644779</td>\n",
              "      <td>0.086518</td>\n",
              "      <td>0.731470</td>\n",
              "      <td>-0.222991</td>\n",
              "      <td>1.000000</td>\n",
              "      <td>-0.747881</td>\n",
              "      <td>0.456022</td>\n",
              "      <td>0.503659</td>\n",
              "      <td>0.261515</td>\n",
              "      <td>-0.273534</td>\n",
              "      <td>0.602339</td>\n",
              "      <td>-0.376955</td>\n",
              "      <td>-0.086518</td>\n",
              "      <td>0.086518</td>\n",
              "    </tr>\n",
              "    <tr>\n",
              "      <th>DIS</th>\n",
              "      <td>-0.174295</td>\n",
              "      <td>0.664408</td>\n",
              "      <td>-0.708027</td>\n",
              "      <td>-0.099176</td>\n",
              "      <td>-0.769230</td>\n",
              "      <td>0.183715</td>\n",
              "      <td>-0.747881</td>\n",
              "      <td>1.000000</td>\n",
              "      <td>-0.494588</td>\n",
              "      <td>-0.537830</td>\n",
              "      <td>-0.232471</td>\n",
              "      <td>0.291512</td>\n",
              "      <td>-0.496996</td>\n",
              "      <td>0.249929</td>\n",
              "      <td>0.099176</td>\n",
              "      <td>-0.099176</td>\n",
              "    </tr>\n",
              "    <tr>\n",
              "      <th>RAD</th>\n",
              "      <td>0.279830</td>\n",
              "      <td>-0.311948</td>\n",
              "      <td>0.595129</td>\n",
              "      <td>-0.007368</td>\n",
              "      <td>0.611441</td>\n",
              "      <td>-0.196734</td>\n",
              "      <td>0.456022</td>\n",
              "      <td>-0.494588</td>\n",
              "      <td>1.000000</td>\n",
              "      <td>0.932824</td>\n",
              "      <td>0.464741</td>\n",
              "      <td>-0.444413</td>\n",
              "      <td>0.488676</td>\n",
              "      <td>-0.381626</td>\n",
              "      <td>0.007368</td>\n",
              "      <td>-0.007368</td>\n",
              "    </tr>\n",
              "    <tr>\n",
              "      <th>TAX</th>\n",
              "      <td>0.266061</td>\n",
              "      <td>-0.314988</td>\n",
              "      <td>0.716358</td>\n",
              "      <td>-0.033518</td>\n",
              "      <td>0.659892</td>\n",
              "      <td>-0.269352</td>\n",
              "      <td>0.503659</td>\n",
              "      <td>-0.537830</td>\n",
              "      <td>0.932824</td>\n",
              "      <td>1.000000</td>\n",
              "      <td>0.477511</td>\n",
              "      <td>-0.444892</td>\n",
              "      <td>0.544425</td>\n",
              "      <td>-0.457047</td>\n",
              "      <td>0.033518</td>\n",
              "      <td>-0.033518</td>\n",
              "    </tr>\n",
              "    <tr>\n",
              "      <th>PTRATIO</th>\n",
              "      <td>0.135151</td>\n",
              "      <td>-0.391679</td>\n",
              "      <td>0.383248</td>\n",
              "      <td>-0.121515</td>\n",
              "      <td>0.188933</td>\n",
              "      <td>-0.365443</td>\n",
              "      <td>0.261515</td>\n",
              "      <td>-0.232471</td>\n",
              "      <td>0.464741</td>\n",
              "      <td>0.477511</td>\n",
              "      <td>1.000000</td>\n",
              "      <td>-0.177383</td>\n",
              "      <td>0.374044</td>\n",
              "      <td>-0.507787</td>\n",
              "      <td>0.121515</td>\n",
              "      <td>-0.121515</td>\n",
              "    </tr>\n",
              "    <tr>\n",
              "      <th>B</th>\n",
              "      <td>-0.191856</td>\n",
              "      <td>0.175520</td>\n",
              "      <td>-0.356977</td>\n",
              "      <td>0.048788</td>\n",
              "      <td>-0.380051</td>\n",
              "      <td>0.125611</td>\n",
              "      <td>-0.273534</td>\n",
              "      <td>0.291512</td>\n",
              "      <td>-0.444413</td>\n",
              "      <td>-0.444892</td>\n",
              "      <td>-0.177383</td>\n",
              "      <td>1.000000</td>\n",
              "      <td>-0.366087</td>\n",
              "      <td>0.333461</td>\n",
              "      <td>-0.048788</td>\n",
              "      <td>0.048788</td>\n",
              "    </tr>\n",
              "    <tr>\n",
              "      <th>LSTAT</th>\n",
              "      <td>0.209275</td>\n",
              "      <td>-0.412995</td>\n",
              "      <td>0.603800</td>\n",
              "      <td>-0.053929</td>\n",
              "      <td>0.590879</td>\n",
              "      <td>-0.600346</td>\n",
              "      <td>0.602339</td>\n",
              "      <td>-0.496996</td>\n",
              "      <td>0.488676</td>\n",
              "      <td>0.544425</td>\n",
              "      <td>0.374044</td>\n",
              "      <td>-0.366087</td>\n",
              "      <td>1.000000</td>\n",
              "      <td>-0.737663</td>\n",
              "      <td>0.053929</td>\n",
              "      <td>-0.053929</td>\n",
              "    </tr>\n",
              "    <tr>\n",
              "      <th>target</th>\n",
              "      <td>-0.218837</td>\n",
              "      <td>0.360445</td>\n",
              "      <td>-0.483725</td>\n",
              "      <td>0.175260</td>\n",
              "      <td>-0.427321</td>\n",
              "      <td>0.718169</td>\n",
              "      <td>-0.376955</td>\n",
              "      <td>0.249929</td>\n",
              "      <td>-0.381626</td>\n",
              "      <td>-0.457047</td>\n",
              "      <td>-0.507787</td>\n",
              "      <td>0.333461</td>\n",
              "      <td>-0.737663</td>\n",
              "      <td>1.000000</td>\n",
              "      <td>-0.175260</td>\n",
              "      <td>0.175260</td>\n",
              "    </tr>\n",
              "    <tr>\n",
              "      <th>CHAS_0.0</th>\n",
              "      <td>0.041163</td>\n",
              "      <td>0.042697</td>\n",
              "      <td>-0.062938</td>\n",
              "      <td>-1.000000</td>\n",
              "      <td>-0.091203</td>\n",
              "      <td>-0.098034</td>\n",
              "      <td>-0.086518</td>\n",
              "      <td>0.099176</td>\n",
              "      <td>0.007368</td>\n",
              "      <td>0.033518</td>\n",
              "      <td>0.121515</td>\n",
              "      <td>-0.048788</td>\n",
              "      <td>0.053929</td>\n",
              "      <td>-0.175260</td>\n",
              "      <td>1.000000</td>\n",
              "      <td>-1.000000</td>\n",
              "    </tr>\n",
              "    <tr>\n",
              "      <th>CHAS_1.0</th>\n",
              "      <td>-0.041163</td>\n",
              "      <td>-0.042697</td>\n",
              "      <td>0.062938</td>\n",
              "      <td>1.000000</td>\n",
              "      <td>0.091203</td>\n",
              "      <td>0.098034</td>\n",
              "      <td>0.086518</td>\n",
              "      <td>-0.099176</td>\n",
              "      <td>-0.007368</td>\n",
              "      <td>-0.033518</td>\n",
              "      <td>-0.121515</td>\n",
              "      <td>0.048788</td>\n",
              "      <td>-0.053929</td>\n",
              "      <td>0.175260</td>\n",
              "      <td>-1.000000</td>\n",
              "      <td>1.000000</td>\n",
              "    </tr>\n",
              "  </tbody>\n",
              "</table>\n",
              "</div>"
            ],
            "text/plain": [
              "              CRIM        ZN     INDUS  ...    target  CHAS_0.0  CHAS_1.0\n",
              "CRIM      1.000000 -0.082634  0.172073  ... -0.218837  0.041163 -0.041163\n",
              "ZN       -0.082634  1.000000 -0.533828  ...  0.360445  0.042697 -0.042697\n",
              "INDUS     0.172073 -0.533828  1.000000  ... -0.483725 -0.062938  0.062938\n",
              "CHAS     -0.041163 -0.042697  0.062938  ...  0.175260 -1.000000  1.000000\n",
              "NOX       0.174481 -0.516604  0.763651  ... -0.427321 -0.091203  0.091203\n",
              "RM       -0.080254  0.307863 -0.382654  ...  0.718169 -0.098034  0.098034\n",
              "AGE       0.158977 -0.569537  0.644779  ... -0.376955 -0.086518  0.086518\n",
              "DIS      -0.174295  0.664408 -0.708027  ...  0.249929  0.099176 -0.099176\n",
              "RAD       0.279830 -0.311948  0.595129  ... -0.381626  0.007368 -0.007368\n",
              "TAX       0.266061 -0.314988  0.716358  ... -0.457047  0.033518 -0.033518\n",
              "PTRATIO   0.135151 -0.391679  0.383248  ... -0.507787  0.121515 -0.121515\n",
              "B        -0.191856  0.175520 -0.356977  ...  0.333461 -0.048788  0.048788\n",
              "LSTAT     0.209275 -0.412995  0.603800  ... -0.737663  0.053929 -0.053929\n",
              "target   -0.218837  0.360445 -0.483725  ...  1.000000 -0.175260  0.175260\n",
              "CHAS_0.0  0.041163  0.042697 -0.062938  ... -0.175260  1.000000 -1.000000\n",
              "CHAS_1.0 -0.041163 -0.042697  0.062938  ...  0.175260 -1.000000  1.000000\n",
              "\n",
              "[16 rows x 16 columns]"
            ]
          },
          "metadata": {
            "tags": []
          },
          "execution_count": 22
        }
      ]
    },
    {
      "cell_type": "markdown",
      "metadata": {
        "id": "2UXx-RCd2-SP",
        "colab_type": "text"
      },
      "source": [
        "# モデルの訓練\n",
        "データは分割するようにしてください．交叉検証についてはまだ説明したいので自由にしてください．\n",
        "\n",
        "また，モデルの訓練およびデータ分割時に乱数の指定がないなど再現性がなさそうなコードは認めないことにします．\n",
        "\n",
        "モデルは自由ですが，sklearn を想定しています．自作ライブラリも可ですが，自作の場合，該当箇所は適当に読みます．"
      ]
    },
    {
      "cell_type": "code",
      "metadata": {
        "id": "4KCyiRIT2-SQ",
        "colab_type": "code",
        "colab": {}
      },
      "source": [
        "from sklearn.model_selection import train_test_split\n",
        "from sklearn.ensemble import RandomForestRegressor  as RFR"
      ],
      "execution_count": 0,
      "outputs": []
    },
    {
      "cell_type": "code",
      "metadata": {
        "id": "PhDqkY6On3VO",
        "colab_type": "code",
        "outputId": "db1f3fcd-c10a-4d5e-876a-29e5dda5ebf6",
        "colab": {
          "base_uri": "https://localhost:8080/",
          "height": 136
        }
      },
      "source": [
        "#データの１部を２乗したデータの訓練\n",
        "X2_train, X2_test, y2_train, y2_test = train_test_split(boston２_df[variable], boston２_df[\"target\"], test_size=0.3, random_state=43)\n",
        "clf2 = RFR(n_jobs=-1, random_state=43)\n",
        "clf2.fit(X2_train, y2_train)"
      ],
      "execution_count": 24,
      "outputs": [
        {
          "output_type": "execute_result",
          "data": {
            "text/plain": [
              "RandomForestRegressor(bootstrap=True, ccp_alpha=0.0, criterion='mse',\n",
              "                      max_depth=None, max_features='auto', max_leaf_nodes=None,\n",
              "                      max_samples=None, min_impurity_decrease=0.0,\n",
              "                      min_impurity_split=None, min_samples_leaf=1,\n",
              "                      min_samples_split=2, min_weight_fraction_leaf=0.0,\n",
              "                      n_estimators=100, n_jobs=-1, oob_score=False,\n",
              "                      random_state=43, verbose=0, warm_start=False)"
            ]
          },
          "metadata": {
            "tags": []
          },
          "execution_count": 24
        }
      ]
    },
    {
      "cell_type": "code",
      "metadata": {
        "id": "CJekQkVUfIsq",
        "colab_type": "code",
        "colab": {}
      },
      "source": [
        "#そのままのデータの訓練\n",
        "boston_df = pd.DataFrame(data[\"data\"], columns=data[\"feature_names\"])\n",
        "boston_df = pd.concat([boston_df, pd.DataFrame(data[\"target\"], columns=[\"target\"])], axis=1)\n",
        "boston_df = pd.concat([boston_df, pd.get_dummies(boston_df[\"CHAS\"], prefix=\"CHAS\")], axis=1)\n",
        "X_train, X_test, y_train, y_test = train_test_split(boston_df[variable], boston_df[\"target\"], test_size=0.3, random_state=43)"
      ],
      "execution_count": 0,
      "outputs": []
    },
    {
      "cell_type": "code",
      "metadata": {
        "id": "TtyZjovpn-WF",
        "colab_type": "code",
        "colab": {
          "base_uri": "https://localhost:8080/",
          "height": 136
        },
        "outputId": "0aa56706-68b4-42d7-82d2-35cdd558cc11"
      },
      "source": [
        "clf = RFR(n_jobs=-1, random_state=43)\n",
        "clf.fit(X_train, y_train)"
      ],
      "execution_count": 26,
      "outputs": [
        {
          "output_type": "execute_result",
          "data": {
            "text/plain": [
              "RandomForestRegressor(bootstrap=True, ccp_alpha=0.0, criterion='mse',\n",
              "                      max_depth=None, max_features='auto', max_leaf_nodes=None,\n",
              "                      max_samples=None, min_impurity_decrease=0.0,\n",
              "                      min_impurity_split=None, min_samples_leaf=1,\n",
              "                      min_samples_split=2, min_weight_fraction_leaf=0.0,\n",
              "                      n_estimators=100, n_jobs=-1, oob_score=False,\n",
              "                      random_state=43, verbose=0, warm_start=False)"
            ]
          },
          "metadata": {
            "tags": []
          },
          "execution_count": 26
        }
      ]
    },
    {
      "cell_type": "markdown",
      "metadata": {
        "id": "SWU8LbM72-ST",
        "colab_type": "text"
      },
      "source": [
        "# 予測"
      ]
    },
    {
      "cell_type": "code",
      "metadata": {
        "id": "43hpGhHe2-ST",
        "colab_type": "code",
        "colab": {}
      },
      "source": [
        "#データの１部を変更した方\n",
        "pred2 = clf2.predict(X2_test)\n",
        "#データそのまま\n",
        "pred = clf.predict(X_test)"
      ],
      "execution_count": 0,
      "outputs": []
    },
    {
      "cell_type": "code",
      "metadata": {
        "id": "ggAz1AM5qb7v",
        "colab_type": "code",
        "colab": {
          "base_uri": "https://localhost:8080/",
          "height": 340
        },
        "outputId": "d834d96f-99d8-45ea-e3bc-8bb18fd995c0"
      },
      "source": [
        "pred"
      ],
      "execution_count": 28,
      "outputs": [
        {
          "output_type": "execute_result",
          "data": {
            "text/plain": [
              "array([24.984, 15.83 , 20.455, 30.657, 18.384, 17.012, 18.194, 23.736,\n",
              "       21.075, 17.204, 21.883, 26.195, 17.705, 20.225, 18.718,  9.42 ,\n",
              "       26.83 , 33.33 , 13.149, 46.533, 20.235,  8.553, 20.286, 34.196,\n",
              "        8.616, 26.93 , 15.86 , 19.923, 20.385, 14.172, 20.718, 20.341,\n",
              "       15.122, 11.618, 20.181, 19.57 , 14.898, 20.108, 26.377, 24.795,\n",
              "       19.367,  9.763, 22.005, 20.661, 46.086, 19.647, 21.615, 18.643,\n",
              "       43.167, 14.564, 26.94 , 45.365, 43.954, 21.386, 14.703, 49.055,\n",
              "       42.09 , 23.375, 27.696, 26.568, 20.167, 15.234, 22.126, 23.267,\n",
              "       29.928, 14.36 , 20.642, 34.401,  9.543, 22.982, 15.785,  8.745,\n",
              "        9.227, 12.11 , 14.977, 23.526, 20.575, 22.799, 24.057, 19.407,\n",
              "       12.277, 20.189, 14.959,  9.77 , 18.137, 26.675, 12.167, 33.891,\n",
              "       11.943, 13.98 , 15.492, 20.933, 21.123, 22.41 , 20.493, 17.915,\n",
              "       33.227, 32.431, 32.322, 44.08 , 15.79 , 20.52 ,  9.111, 27.377,\n",
              "       20.564, 15.153, 14.608, 19.623, 19.89 , 33.953, 12.878, 26.879,\n",
              "       24.187, 15.378, 17.957, 20.065, 18.276, 19.702, 16.932, 11.434,\n",
              "       26.214, 17.441, 15.496,  9.483, 21.612, 26.851, 28.996, 29.52 ,\n",
              "       10.212, 23.447, 30.377, 20.786, 21.691, 20.891, 20.78 , 18.783,\n",
              "       21.162, 45.869, 15.38 , 29.798, 20.096, 22.514, 18.247, 12.807,\n",
              "       28.002, 22.096, 14.775, 29.13 , 23.751, 20.041, 19.883, 32.445])"
            ]
          },
          "metadata": {
            "tags": []
          },
          "execution_count": 28
        }
      ]
    },
    {
      "cell_type": "code",
      "metadata": {
        "id": "ffUA5qYsqcDZ",
        "colab_type": "code",
        "colab": {
          "base_uri": "https://localhost:8080/",
          "height": 340
        },
        "outputId": "f9ceeae8-5fea-4d62-ce7b-31444c9e07b7"
      },
      "source": [
        "pred2"
      ],
      "execution_count": 29,
      "outputs": [
        {
          "output_type": "execute_result",
          "data": {
            "text/plain": [
              "array([24.988, 15.828, 20.465, 30.657, 18.394, 17.012, 18.344, 23.732,\n",
              "       21.075, 17.204, 21.878, 26.195, 17.705, 20.225, 18.719,  9.42 ,\n",
              "       26.83 , 33.33 , 13.149, 46.533, 20.225,  8.553, 20.286, 34.196,\n",
              "        8.616, 26.72 , 15.886, 19.923, 20.385, 14.172, 20.731, 20.33 ,\n",
              "       15.122, 11.618, 20.181, 19.57 , 14.898, 20.108, 26.403, 24.795,\n",
              "       19.352,  9.874, 22.005, 20.363, 46.091, 19.647, 21.615, 18.643,\n",
              "       43.173, 14.564, 26.94 , 45.433, 43.954, 21.374, 14.703, 49.069,\n",
              "       41.84 , 23.375, 27.696, 26.568, 20.167, 15.259, 22.116, 23.267,\n",
              "       29.928, 14.36 , 20.643, 34.399,  9.543, 22.982, 15.785,  8.746,\n",
              "        9.211, 12.11 , 14.977, 23.533, 20.571, 22.799, 24.048, 19.407,\n",
              "       12.277, 20.189, 14.959,  9.779, 18.154, 26.675, 12.167, 33.891,\n",
              "       11.978, 13.98 , 15.51 , 20.933, 21.1  , 22.42 , 20.489, 17.915,\n",
              "       33.227, 32.301, 32.322, 44.08 , 15.791, 20.52 ,  9.114, 27.377,\n",
              "       20.564, 15.206, 14.616, 19.641, 19.89 , 33.953, 12.871, 26.879,\n",
              "       24.187, 15.378, 17.957, 20.065, 18.276, 19.702, 16.932, 11.453,\n",
              "       26.219, 17.471, 15.496,  9.483, 21.526, 26.851, 28.992, 29.52 ,\n",
              "       10.212, 23.383, 30.377, 20.79 , 21.691, 20.891, 20.777, 18.763,\n",
              "       21.162, 45.869, 15.38 , 29.802, 20.096, 22.514, 18.293, 12.807,\n",
              "       27.93 , 22.096, 14.775, 29.13 , 23.756, 20.041, 19.89 , 32.451])"
            ]
          },
          "metadata": {
            "tags": []
          },
          "execution_count": 29
        }
      ]
    },
    {
      "cell_type": "markdown",
      "metadata": {
        "id": "de-bi_032-SX",
        "colab_type": "text"
      },
      "source": [
        "# 精度の確認"
      ]
    },
    {
      "cell_type": "code",
      "metadata": {
        "id": "TbWDMWFTqS2k",
        "colab_type": "code",
        "colab": {
          "base_uri": "https://localhost:8080/",
          "height": 34
        },
        "outputId": "30f3878c-333e-486c-bb72-68197cd1aff7"
      },
      "source": [
        "#データを変更した方\n",
        "clf2.score(X2_test,y2_test)"
      ],
      "execution_count": 30,
      "outputs": [
        {
          "output_type": "execute_result",
          "data": {
            "text/plain": [
              "0.8863044184800977"
            ]
          },
          "metadata": {
            "tags": []
          },
          "execution_count": 30
        }
      ]
    },
    {
      "cell_type": "code",
      "metadata": {
        "id": "3hg8_llf2-SY",
        "colab_type": "code",
        "outputId": "ed057ca1-e5a8-4795-c032-e1048b2342bb",
        "colab": {
          "base_uri": "https://localhost:8080/",
          "height": 34
        }
      },
      "source": [
        "#そのままのデータ\n",
        "clf.score(X_test, y_test)"
      ],
      "execution_count": 31,
      "outputs": [
        {
          "output_type": "execute_result",
          "data": {
            "text/plain": [
              "0.8862967228318026"
            ]
          },
          "metadata": {
            "tags": []
          },
          "execution_count": 31
        }
      ]
    },
    {
      "cell_type": "markdown",
      "metadata": {
        "id": "_ZFBzU152-Sd",
        "colab_type": "text"
      },
      "source": [
        "# 仮説の確認\n",
        "最初に立てた仮説を確認してください．\n",
        "\n",
        "予測傾向など精度ベースでも仮説を確認することはできますが，決定木や可視化を用いる方が楽かもしれません．"
      ]
    },
    {
      "cell_type": "markdown",
      "metadata": {
        "id": "J50012xO2-Sd",
        "colab_type": "text"
      },
      "source": [
        ""
      ]
    },
    {
      "cell_type": "code",
      "metadata": {
        "id": "oRXfYAYq2-Se",
        "colab_type": "code",
        "colab": {}
      },
      "source": [
        "#今回は、TAX,RM,CRIMを重要視するようなモデルを作ったが、そのままのデータから少し精度が上がっただけでほぼ変わらないことがわかった。"
      ],
      "execution_count": 0,
      "outputs": []
    }
  ]
}