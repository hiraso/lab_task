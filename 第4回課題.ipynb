{
  "nbformat": 4,
  "nbformat_minor": 0,
  "metadata": {
    "anaconda-cloud": {},
    "kernelspec": {
      "name": "python3",
      "display_name": "Python 3"
    },
    "colab": {
      "name": "第4回課題.ipynb",
      "provenance": [],
      "include_colab_link": true
    },
    "accelerator": "GPU"
  },
  "cells": [
    {
      "cell_type": "markdown",
      "metadata": {
        "id": "view-in-github",
        "colab_type": "text"
      },
      "source": [
        "<a href=\"https://colab.research.google.com/github/hiraso/lab_task/blob/master/%E7%AC%AC4%E5%9B%9E%E8%AA%B2%E9%A1%8C.ipynb\" target=\"_parent\"><img src=\"https://colab.research.google.com/assets/colab-badge.svg\" alt=\"Open In Colab\"/></a>"
      ]
    },
    {
      "cell_type": "markdown",
      "metadata": {
        "id": "vcFG2T70Sylk",
        "colab_type": "text"
      },
      "source": [
        "# 第4回課題\n",
        "内包表記，並列処理"
      ]
    },
    {
      "cell_type": "code",
      "metadata": {
        "id": "Yx16jJDwSyln",
        "colab_type": "code",
        "colab": {}
      },
      "source": [
        "#!pip install joblib"
      ],
      "execution_count": 0,
      "outputs": []
    },
    {
      "cell_type": "code",
      "metadata": {
        "id": "oD14H4tZSyls",
        "colab_type": "code",
        "colab": {}
      },
      "source": [
        "from joblib import Parallel, delayed\n",
        "import numpy as np\n",
        "import pprint\n",
        "pp = pprint.PrettyPrinter(indent=4)"
      ],
      "execution_count": 0,
      "outputs": []
    },
    {
      "cell_type": "markdown",
      "metadata": {
        "id": "jQqa9tozSylx",
        "colab_type": "text"
      },
      "source": [
        "## 内包表記\n",
        "python における高速化テクの1つである内包表記の実装（for 文の削減）"
      ]
    },
    {
      "cell_type": "markdown",
      "metadata": {
        "id": "TEEqMzYeSyly",
        "colab_type": "text"
      },
      "source": [
        "### 課題3"
      ]
    },
    {
      "cell_type": "markdown",
      "metadata": {
        "id": "qG-ggoTmSylz",
        "colab_type": "text"
      },
      "source": [
        "以下の for 文を内包表記に書き直しなさい．\n",
        "```[python]\n",
        "data = []\n",
        "for i in range(5):\n",
        "    for j in range(4):\n",
        "        data.append(i*j)\n",
        "data\n",
        "```\n",
        "出力：\n",
        "[0, 0, 0, 0, 0, 1, 2, 3, 0, 2, 4, 6, 0, 3, 6, 9, 0, 4, 8, 12]"
      ]
    },
    {
      "cell_type": "code",
      "metadata": {
        "id": "IGo02KIfSylz",
        "colab_type": "code",
        "outputId": "315d0db8-265c-4407-9e4f-556306c0afee",
        "colab": {
          "base_uri": "https://localhost:8080/",
          "height": 34
        }
      },
      "source": [
        "data = [i*j for i in range(5) for j in range(4)]\n",
        "print(data)"
      ],
      "execution_count": 0,
      "outputs": [
        {
          "output_type": "stream",
          "text": [
            "[0, 0, 0, 0, 0, 1, 2, 3, 0, 2, 4, 6, 0, 3, 6, 9, 0, 4, 8, 12]\n"
          ],
          "name": "stdout"
        }
      ]
    },
    {
      "cell_type": "markdown",
      "metadata": {
        "id": "jtWZRzcgSyl4",
        "colab_type": "text"
      },
      "source": [
        "### 課題2"
      ]
    },
    {
      "cell_type": "markdown",
      "metadata": {
        "id": "VRGlOfC3Syl5",
        "colab_type": "text"
      },
      "source": [
        "以下の for 文を内包表記に書き直しなさい．\n",
        "```[python]\n",
        "data = []\n",
        "for i in range(5):\n",
        "    inner = []\n",
        "    for j in range(i, 6):\n",
        "        inner.append(i)\n",
        "    data.append(inner)\n",
        "data\n",
        "```\n",
        "出力：\n",
        "[[0, 0, 0, 0, 0, 0], [1, 1, 1, 1, 1], [2, 2, 2, 2], [3, 3, 3], [4, 4]]"
      ]
    },
    {
      "cell_type": "code",
      "metadata": {
        "id": "QlPc-jUISyl6",
        "colab_type": "code",
        "outputId": "f4d73b06-a0a3-4cb8-db15-d10d3e1a0be8",
        "colab": {
          "base_uri": "https://localhost:8080/",
          "height": 34
        }
      },
      "source": [
        "data =[[i for j in range(i,6)] for i in range(5)]\n",
        "print(data)"
      ],
      "execution_count": 0,
      "outputs": [
        {
          "output_type": "stream",
          "text": [
            "[[0, 0, 0, 0, 0, 0], [1, 1, 1, 1, 1], [2, 2, 2, 2], [3, 3, 3], [4, 4]]\n"
          ],
          "name": "stdout"
        }
      ]
    },
    {
      "cell_type": "markdown",
      "metadata": {
        "id": "19BcvN4uSyl9",
        "colab_type": "text"
      },
      "source": [
        "## 並列処理\n",
        "python における高速化テクの1つである並列化の実装（複数コア，CPU の使用）\n",
        "\n",
        "joblib だけでなく multiprocessing もある"
      ]
    },
    {
      "cell_type": "markdown",
      "metadata": {
        "id": "knr9M2vPSyl-",
        "colab_type": "text"
      },
      "source": [
        "### 例：2乗の場合"
      ]
    },
    {
      "cell_type": "code",
      "metadata": {
        "id": "AClfta02Syl_",
        "colab_type": "code",
        "outputId": "5a70685b-0554-487b-941a-e5cf47a8d05e",
        "colab": {
          "base_uri": "https://localhost:8080/",
          "height": 34
        }
      },
      "source": [
        "%%timeit 3 # 3回下記のコードを実行した時の時間を表示\n",
        "r = []\n",
        "for i in range(10000):\n",
        "    r.append(i ** 2)\n",
        "r[:3] + r[-3:]"
      ],
      "execution_count": 0,
      "outputs": [
        {
          "output_type": "stream",
          "text": [
            "100 loops, best of 3: 3.06 ms per loop\n"
          ],
          "name": "stdout"
        }
      ]
    },
    {
      "cell_type": "code",
      "metadata": {
        "id": "B6IbmQigSymD",
        "colab_type": "code",
        "colab": {}
      },
      "source": [
        "?Parallel"
      ],
      "execution_count": 0,
      "outputs": []
    },
    {
      "cell_type": "code",
      "metadata": {
        "id": "FdjqdNtOSymI",
        "colab_type": "code",
        "outputId": "e8a64300-4ee6-4635-97a1-162495532e76",
        "colab": {
          "base_uri": "https://localhost:8080/",
          "height": 34
        }
      },
      "source": [
        "%%timeit 3 \n",
        "power = lambda x: x**2\n",
        "r = Parallel(n_jobs=-1, verbose=0)([delayed(power)(i) for i in range(10000)])\n",
        "r[:3] + r[-3:]"
      ],
      "execution_count": 0,
      "outputs": [
        {
          "output_type": "stream",
          "text": [
            "1 loop, best of 3: 237 ms per loop\n"
          ],
          "name": "stdout"
        }
      ]
    },
    {
      "cell_type": "code",
      "metadata": {
        "id": "qGD16MRWSymL",
        "colab_type": "code",
        "outputId": "0a93e964-7dae-4724-9fae-23cb00a66342",
        "colab": {
          "base_uri": "https://localhost:8080/",
          "height": 85
        }
      },
      "source": [
        "power = lambda x: x**2\n",
        "r = Parallel(n_jobs=-1, verbose=3)( [delayed(power)(i) for i in range(10000)] )\n",
        "r[:3] + r[-3:]"
      ],
      "execution_count": 0,
      "outputs": [
        {
          "output_type": "stream",
          "text": [
            "[Parallel(n_jobs=-1)]: Using backend LokyBackend with 2 concurrent workers.\n",
            "[Parallel(n_jobs=-1)]: Done 508 tasks      | elapsed:    0.0s\n",
            "[Parallel(n_jobs=-1)]: Done 10000 out of 10000 | elapsed:    0.2s finished\n"
          ],
          "name": "stderr"
        },
        {
          "output_type": "execute_result",
          "data": {
            "text/plain": [
              "[0, 1, 4, 99940009, 99960004, 99980001]"
            ]
          },
          "metadata": {
            "tags": []
          },
          "execution_count": 8
        }
      ]
    },
    {
      "cell_type": "code",
      "metadata": {
        "id": "CKLHs68qSymT",
        "colab_type": "code",
        "outputId": "2ad29840-3adc-4be3-adca-141f143c0e53",
        "colab": {
          "base_uri": "https://localhost:8080/",
          "height": 71
        }
      },
      "source": [
        "%%timeit 3\n",
        "# numpy が最速というのはよくある\n",
        "np.arange(10000) ** 2"
      ],
      "execution_count": 0,
      "outputs": [
        {
          "output_type": "stream",
          "text": [
            "The slowest run took 434.77 times longer than the fastest. This could mean that an intermediate result is being cached.\n",
            "10000 loops, best of 3: 19.9 µs per loop\n"
          ],
          "name": "stdout"
        }
      ]
    },
    {
      "cell_type": "code",
      "metadata": {
        "id": "erW8IYjTSymW",
        "colab_type": "code",
        "outputId": "e6899413-7a7f-40e2-c150-5809eb1565c6",
        "colab": {
          "base_uri": "https://localhost:8080/",
          "height": 34
        }
      },
      "source": [
        "%%timeit 3\n",
        "np.fromiter(range(10000), dtype=np.int) ** 2"
      ],
      "execution_count": 0,
      "outputs": [
        {
          "output_type": "stream",
          "text": [
            "1000 loops, best of 3: 423 µs per loop\n"
          ],
          "name": "stdout"
        }
      ]
    },
    {
      "cell_type": "markdown",
      "metadata": {
        "id": "K6JI9QsUSymc",
        "colab_type": "text"
      },
      "source": [
        "### 課題1"
      ]
    },
    {
      "cell_type": "markdown",
      "metadata": {
        "id": "hr22nrrkSymd",
        "colab_type": "text"
      },
      "source": [
        "x = [(i, i+1) for i in range(100000)] としたとき，各 index 毎に積を求めよ\n",
        "\n",
        "出力 [0, 2, 6,（中略） 9999500006, 9999700002, 9999900000]"
      ]
    },
    {
      "cell_type": "code",
      "metadata": {
        "id": "2gTfSCb5w8p0",
        "colab_type": "code",
        "colab": {
          "base_uri": "https://localhost:8080/",
          "height": 85
        },
        "outputId": "28f82fb7-bc84-46ea-9707-da6f213b9010"
      },
      "source": [
        "power = lambda x: x[0] * x[1]\n",
        "r = Parallel(n_jobs=-1,verbose= 3)(delayed(power)((i,i+1)) for i in range(100000))\n",
        "r[:3] + r[-3:]"
      ],
      "execution_count": 18,
      "outputs": [
        {
          "output_type": "stream",
          "text": [
            "[Parallel(n_jobs=-1)]: Using backend LokyBackend with 2 concurrent workers.\n",
            "[Parallel(n_jobs=-1)]: Done 508 tasks      | elapsed:    0.1s\n",
            "[Parallel(n_jobs=-1)]: Done 100000 out of 100000 | elapsed:    2.3s finished\n"
          ],
          "name": "stderr"
        },
        {
          "output_type": "execute_result",
          "data": {
            "text/plain": [
              "[0, 2, 6, 9999500006, 9999700002, 9999900000]"
            ]
          },
          "metadata": {
            "tags": []
          },
          "execution_count": 18
        }
      ]
    },
    {
      "cell_type": "markdown",
      "metadata": {
        "id": "aqtBCxSQSymg",
        "colab_type": "text"
      },
      "source": [
        "### 発展課題\n",
        "C = np.cumsum(np.arange(1000)) の各項の差を求めよ\n",
        "\n",
        "出力[1, 2, 3,（中略） 997, 998, 999] = np.arange(1, 1000)"
      ]
    },
    {
      "cell_type": "code",
      "metadata": {
        "id": "B0ua6UfcSymh",
        "colab_type": "code",
        "colab": {}
      },
      "source": [
        ""
      ],
      "execution_count": 0,
      "outputs": []
    }
  ]
}