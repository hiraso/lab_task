{
  "nbformat": 4,
  "nbformat_minor": 0,
  "metadata": {
    "anaconda-cloud": {},
    "kernelspec": {
      "display_name": "Python [Root]",
      "language": "python",
      "name": "Python [Root]"
    },
    "language_info": {
      "codemirror_mode": {
        "name": "ipython",
        "version": 3
      },
      "file_extension": ".py",
      "mimetype": "text/x-python",
      "name": "python",
      "nbconvert_exporter": "python",
      "pygments_lexer": "ipython3",
      "version": "3.5.2"
    },
    "colab": {
      "name": "第3回課題.ipynb",
      "provenance": [],
      "include_colab_link": true
    }
  },
  "cells": [
    {
      "cell_type": "markdown",
      "metadata": {
        "id": "view-in-github",
        "colab_type": "text"
      },
      "source": [
        "<a href=\"https://colab.research.google.com/github/hiraso/lab_task/blob/master/%E7%AC%AC3%E5%9B%9E%E8%AA%B2%E9%A1%8C.ipynb\" target=\"_parent\"><img src=\"https://colab.research.google.com/assets/colab-badge.svg\" alt=\"Open In Colab\"/></a>"
      ]
    },
    {
      "cell_type": "markdown",
      "metadata": {
        "id": "zPVC8kBtSfX_",
        "colab_type": "text"
      },
      "source": [
        "# 第3回課題\n",
        "matplotlib\n",
        "\n",
        "今回は [pyplot](https://matplotlib.org/3.1.1/tutorials/introductory/pyplot.html#sphx-glr-tutorials-introductory-pyplot-py) の tutorial に従えば問題ないようになっています．\n",
        "\n",
        "他のライブラリとしては，seaborn が有名だと思います．"
      ]
    },
    {
      "cell_type": "code",
      "metadata": {
        "id": "TQeGkpNcSfYB",
        "colab_type": "code",
        "colab": {}
      },
      "source": [
        "import matplotlib.pyplot as plt\n",
        "# plt.show の省略\n",
        "%matplotlib inline\n",
        "import numpy as np\n",
        "import pandas as pd"
      ],
      "execution_count": 0,
      "outputs": []
    },
    {
      "cell_type": "code",
      "metadata": {
        "id": "CkZT1d1lSfYI",
        "colab_type": "code",
        "colab": {}
      },
      "source": [
        "# 日本語化はフォントへの path を通せばいいのですが，今回は library の力を借りましょう\n",
        "#!pip install japanize_matplotlib"
      ],
      "execution_count": 0,
      "outputs": []
    },
    {
      "cell_type": "code",
      "metadata": {
        "id": "s05a4HC3SfYO",
        "colab_type": "code",
        "outputId": "d275be2f-a6ec-4080-9544-6d056adb7d48",
        "colab": {
          "base_uri": "https://localhost:8080/",
          "height": 54
        }
      },
      "source": [
        "# 既に日本語化できている場合は，コメントアウト\n",
        "#import japanize_matplotlib # https://github.com/uehara1414/japanize-matplotlib\n",
        "'''\n",
        "# 中身\n",
        "import os\n",
        "import pathlib\n",
        "\n",
        "import matplotlib\n",
        "from matplotlib import font_manager\n",
        "\n",
        "FONTS_DIR = 'fonts'\n",
        "FONT_NAME = \"IPAexGothic\"\n",
        "\n",
        "font_dir_path = pathlib.Path(os.path.abspath(__file__)).parent / pathlib.Path(FONTS_DIR)\n",
        "font_dirs = [font_dir_path, ]\n",
        "font_files = font_manager.findSystemFonts(fontpaths=font_dirs)\n",
        "font_list = font_manager.createFontList(font_files)\n",
        "font_manager.fontManager.ttflist.extend(font_list)\n",
        "\n",
        "matplotlib.rc('font', family=FONT_NAME)\n",
        "'''"
      ],
      "execution_count": 4,
      "outputs": [
        {
          "output_type": "execute_result",
          "data": {
            "text/plain": [
              "'\\n# 中身\\nimport os\\nimport pathlib\\n\\nimport matplotlib\\nfrom matplotlib import font_manager\\n\\nFONTS_DIR = \\'fonts\\'\\nFONT_NAME = \"IPAexGothic\"\\n\\nfont_dir_path = pathlib.Path(os.path.abspath(__file__)).parent / pathlib.Path(FONTS_DIR)\\nfont_dirs = [font_dir_path, ]\\nfont_files = font_manager.findSystemFonts(fontpaths=font_dirs)\\nfont_list = font_manager.createFontList(font_files)\\nfont_manager.fontManager.ttflist.extend(font_list)\\n\\nmatplotlib.rc(\\'font\\', family=FONT_NAME)\\n'"
            ]
          },
          "metadata": {
            "tags": []
          },
          "execution_count": 4
        }
      ]
    },
    {
      "cell_type": "code",
      "metadata": {
        "id": "b7KT9cExSfYX",
        "colab_type": "code",
        "outputId": "46134575-8798-43f4-e916-f6bc2a1b24ff",
        "colab": {
          "base_uri": "https://localhost:8080/",
          "height": 204
        }
      },
      "source": [
        "# iris dataset の読み込み（第2回課題のネタバレ）\n",
        "from sklearn.datasets import load_iris\n",
        "iris_data = load_iris() #del iris_data などで不要となった変数を消すことも可能\n",
        "data, label, feature_names = iris_data[\"data\"], iris_data[\"target\"], iris_data[\"feature_names\"]\n",
        "iris_df = pd.DataFrame(data, columns=feature_names)\n",
        "label = pd.DataFrame(label, columns=[\"label\"])\n",
        "iris_df = pd.concat([iris_df, label], axis=1)\n",
        "iris_df.head()"
      ],
      "execution_count": 5,
      "outputs": [
        {
          "output_type": "execute_result",
          "data": {
            "text/html": [
              "<div>\n",
              "<style scoped>\n",
              "    .dataframe tbody tr th:only-of-type {\n",
              "        vertical-align: middle;\n",
              "    }\n",
              "\n",
              "    .dataframe tbody tr th {\n",
              "        vertical-align: top;\n",
              "    }\n",
              "\n",
              "    .dataframe thead th {\n",
              "        text-align: right;\n",
              "    }\n",
              "</style>\n",
              "<table border=\"1\" class=\"dataframe\">\n",
              "  <thead>\n",
              "    <tr style=\"text-align: right;\">\n",
              "      <th></th>\n",
              "      <th>sepal length (cm)</th>\n",
              "      <th>sepal width (cm)</th>\n",
              "      <th>petal length (cm)</th>\n",
              "      <th>petal width (cm)</th>\n",
              "      <th>label</th>\n",
              "    </tr>\n",
              "  </thead>\n",
              "  <tbody>\n",
              "    <tr>\n",
              "      <th>0</th>\n",
              "      <td>5.1</td>\n",
              "      <td>3.5</td>\n",
              "      <td>1.4</td>\n",
              "      <td>0.2</td>\n",
              "      <td>0</td>\n",
              "    </tr>\n",
              "    <tr>\n",
              "      <th>1</th>\n",
              "      <td>4.9</td>\n",
              "      <td>3.0</td>\n",
              "      <td>1.4</td>\n",
              "      <td>0.2</td>\n",
              "      <td>0</td>\n",
              "    </tr>\n",
              "    <tr>\n",
              "      <th>2</th>\n",
              "      <td>4.7</td>\n",
              "      <td>3.2</td>\n",
              "      <td>1.3</td>\n",
              "      <td>0.2</td>\n",
              "      <td>0</td>\n",
              "    </tr>\n",
              "    <tr>\n",
              "      <th>3</th>\n",
              "      <td>4.6</td>\n",
              "      <td>3.1</td>\n",
              "      <td>1.5</td>\n",
              "      <td>0.2</td>\n",
              "      <td>0</td>\n",
              "    </tr>\n",
              "    <tr>\n",
              "      <th>4</th>\n",
              "      <td>5.0</td>\n",
              "      <td>3.6</td>\n",
              "      <td>1.4</td>\n",
              "      <td>0.2</td>\n",
              "      <td>0</td>\n",
              "    </tr>\n",
              "  </tbody>\n",
              "</table>\n",
              "</div>"
            ],
            "text/plain": [
              "   sepal length (cm)  sepal width (cm)  ...  petal width (cm)  label\n",
              "0                5.1               3.5  ...               0.2      0\n",
              "1                4.9               3.0  ...               0.2      0\n",
              "2                4.7               3.2  ...               0.2      0\n",
              "3                4.6               3.1  ...               0.2      0\n",
              "4                5.0               3.6  ...               0.2      0\n",
              "\n",
              "[5 rows x 5 columns]"
            ]
          },
          "metadata": {
            "tags": []
          },
          "execution_count": 5
        }
      ]
    },
    {
      "cell_type": "markdown",
      "metadata": {
        "id": "Wqw4OaRCSfYu",
        "colab_type": "text"
      },
      "source": [
        "## hist"
      ]
    },
    {
      "cell_type": "markdown",
      "metadata": {
        "id": "LB61SrYSSfYv",
        "colab_type": "text"
      },
      "source": [
        "### 課題1\n",
        "sepal length (cm) について，histogram を作る（bins をいじるなどしてよい）．\n",
        "```\n",
        "plt.hist\n",
        "```"
      ]
    },
    {
      "cell_type": "code",
      "metadata": {
        "id": "in-AFb07SfYw",
        "colab_type": "code",
        "colab": {
          "base_uri": "https://localhost:8080/",
          "height": 350
        },
        "outputId": "1fcdc197-57ca-4218-f27a-00ca8caa8338"
      },
      "source": [
        "plt.hist(iris_df[\"sepal length (cm)\"],bins = 20)"
      ],
      "execution_count": 6,
      "outputs": [
        {
          "output_type": "execute_result",
          "data": {
            "text/plain": [
              "(array([ 4.,  5.,  7., 16.,  9.,  5., 13., 14., 10.,  6., 10., 16.,  7.,\n",
              "        11.,  4.,  2.,  4.,  1.,  5.,  1.]),\n",
              " array([4.3 , 4.48, 4.66, 4.84, 5.02, 5.2 , 5.38, 5.56, 5.74, 5.92, 6.1 ,\n",
              "        6.28, 6.46, 6.64, 6.82, 7.  , 7.18, 7.36, 7.54, 7.72, 7.9 ]),\n",
              " <a list of 20 Patch objects>)"
            ]
          },
          "metadata": {
            "tags": []
          },
          "execution_count": 6
        },
        {
          "output_type": "display_data",
          "data": {
            "image/png": "[encoded data removed]",
            "text/plain": [
              "<Figure size 432x288 with 1 Axes>"
            ]
          },
          "metadata": {
            "tags": [],
            "needs_background": "light"
          }
        }
      ]
    },
    {
      "cell_type": "markdown",
      "metadata": {
        "id": "d2dJwAT3SfY0",
        "colab_type": "text"
      },
      "source": [
        "### 課題2\n",
        "課題1の graph に label を付け，判例を付与．さらに，title を fontsize 18 で追加（できれば xlabel, ylabel もやってほしいが）．\n",
        "```\n",
        "#plt.figure\n",
        "plt.hist\n",
        "#plt.xlabel\n",
        "#plt.ylabel\n",
        "plt.title\n",
        "plt.legend\n",
        "```"
      ]
    },
    {
      "cell_type": "code",
      "metadata": {
        "id": "vLRS9K88SfY2",
        "colab_type": "code",
        "colab": {
          "base_uri": "https://localhost:8080/",
          "height": 319
        },
        "outputId": "20857785-dd1c-4308-9086-c76fd34fe44d"
      },
      "source": [
        "plt.hist(iris_df[\"sepal length (cm)\"],bins = 20)\n",
        "plt.xlabel(\"cm\",fontsize=12)\n",
        "plt.ylabel(\"number\",fontsize=12)\n",
        "plt.title(\"sepal length\",fontsize=18)\n",
        "plt.legend"
      ],
      "execution_count": 7,
      "outputs": [
        {
          "output_type": "execute_result",
          "data": {
            "text/plain": [
              "<function matplotlib.pyplot.legend>"
            ]
          },
          "metadata": {
            "tags": []
          },
          "execution_count": 7
        },
        {
          "output_type": "display_data",
          "data": {
            "image/png": "[encoded data removed]",
            "text/plain": [
              "<Figure size 432x288 with 1 Axes>"
            ]
          },
          "metadata": {
            "tags": [],
            "needs_background": "light"
          }
        }
      ]
    },
    {
      "cell_type": "markdown",
      "metadata": {
        "id": "4wd-hAciSfY8",
        "colab_type": "text"
      },
      "source": [
        "### 発展課題１\n",
        "fontsize を backend([rcParams](https://matplotlib.org/3.2.1/api/matplotlib_configuration_api.html#matplotlib.RcParams))で設定\n",
        "```\n",
        "plt.rcParams\n",
        "#plt.figure\n",
        "plt.hist\n",
        "#plt.xlabel\n",
        "#plt.ylabel\n",
        "plt.title\n",
        "plt.legend\n",
        "```"
      ]
    },
    {
      "cell_type": "code",
      "metadata": {
        "id": "twEQjMZjSfY-",
        "colab_type": "code",
        "colab": {}
      },
      "source": [
        ""
      ],
      "execution_count": 0,
      "outputs": []
    },
    {
      "cell_type": "markdown",
      "metadata": {
        "id": "8G4gUzYHSfZB",
        "colab_type": "text"
      },
      "source": [
        "### 発展課題2\n",
        "1行2列で可視化しよう（subplot の使用）\n",
        "```\n",
        "plt.rcParams\n",
        "#plt.figure\n",
        "plt.hist\n",
        "#plt.xlabel\n",
        "#plt.ylabel\n",
        "plt.title\n",
        "plt.legend\n",
        "```"
      ]
    },
    {
      "cell_type": "code",
      "metadata": {
        "id": "JEz3OURmSfZC",
        "colab_type": "code",
        "colab": {}
      },
      "source": [
        ""
      ],
      "execution_count": 0,
      "outputs": []
    },
    {
      "cell_type": "markdown",
      "metadata": {
        "id": "UtqpstcBSfZH",
        "colab_type": "text"
      },
      "source": [
        "## scatter"
      ]
    },
    {
      "cell_type": "markdown",
      "metadata": {
        "id": "WT2jH2RySfZH",
        "colab_type": "text"
      },
      "source": [
        "### 課題3\n",
        "scatter を用いて，横を sepal width，縦を sepal length とする点を表示\n",
        "```\n",
        "plt.scatter\n",
        "```"
      ]
    },
    {
      "cell_type": "code",
      "metadata": {
        "id": "TdrfHx47SfZI",
        "colab_type": "code",
        "colab": {
          "base_uri": "https://localhost:8080/",
          "height": 285
        },
        "outputId": "5f7535cd-1881-4625-9408-71c0a9c1b43a"
      },
      "source": [
        "plt.scatter(iris_df[\"sepal length (cm)\"],iris_df[\"sepal width (cm)\"])"
      ],
      "execution_count": 19,
      "outputs": [
        {
          "output_type": "execute_result",
          "data": {
            "text/plain": [
              "<matplotlib.collections.PathCollection at 0x7f23313a59b0>"
            ]
          },
          "metadata": {
            "tags": []
          },
          "execution_count": 19
        },
        {
          "output_type": "display_data",
          "data": {
            "image/png": "[encoded data removed]",
            "text/plain": [
              "<Figure size 432x288 with 1 Axes>"
            ]
          },
          "metadata": {
            "tags": [],
            "needs_background": "light"
          }
        }
      ]
    },
    {
      "cell_type": "markdown",
      "metadata": {
        "id": "CSiqWQGASfZN",
        "colab_type": "text"
      },
      "source": [
        "### 課題4\n",
        "課題3の図に，横を petal width，縦を petal length とする緑色の点を追加で表示\n",
        "```\n",
        "plt.scatter\n",
        "plt.scatter\n",
        "```"
      ]
    },
    {
      "cell_type": "code",
      "metadata": {
        "id": "0YBltROHSfZQ",
        "colab_type": "code",
        "colab": {
          "base_uri": "https://localhost:8080/",
          "height": 282
        },
        "outputId": "dc91169f-e2e7-4cfe-c218-f5bc09521f4d"
      },
      "source": [
        "plt.scatter(iris_df[\"sepal length (cm)\"],iris_df[\"sepal width (cm)\"])\n",
        "plt.scatter(iris_df[\"petal length (cm)\"],iris_df[\"petal width (cm)\"],c=\"green\")"
      ],
      "execution_count": 21,
      "outputs": [
        {
          "output_type": "execute_result",
          "data": {
            "text/plain": [
              "<matplotlib.collections.PathCollection at 0x7f2331107f98>"
            ]
          },
          "metadata": {
            "tags": []
          },
          "execution_count": 21
        },
        {
          "output_type": "display_data",
          "data": {
            "image/png": "[encoded data removed]",
            "text/plain": [
              "<Figure size 432x288 with 1 Axes>"
            ]
          },
          "metadata": {
            "tags": [],
            "needs_background": "light"
          }
        }
      ]
    },
    {
      "cell_type": "markdown",
      "metadata": {
        "id": "L0EoIUP2SfZU",
        "colab_type": "text"
      },
      "source": [
        "## plot\n",
        "`y = x**2` の直線を plot\n",
        "\n",
        "```[python]\n",
        "x = np.linspace(0, 100, 10**5)\n",
        "plt.\n",
        "```"
      ]
    },
    {
      "cell_type": "code",
      "metadata": {
        "id": "cCvdbxniSfZV",
        "colab_type": "code",
        "colab": {
          "base_uri": "https://localhost:8080/",
          "height": 282
        },
        "outputId": "4905d639-cd02-426d-c707-4d072f04c2eb"
      },
      "source": [
        "x = np.linspace(0, 100, 10**5)\n",
        "y=x**2\n",
        "plt.plot(y)"
      ],
      "execution_count": 22,
      "outputs": [
        {
          "output_type": "execute_result",
          "data": {
            "text/plain": [
              "[<matplotlib.lines.Line2D at 0x7f2331073390>]"
            ]
          },
          "metadata": {
            "tags": []
          },
          "execution_count": 22
        },
        {
          "output_type": "display_data",
          "data": {
            "image/png": "[encoded data removed]",
            "text/plain": [
              "<Figure size 432x288 with 1 Axes>"
            ]
          },
          "metadata": {
            "tags": [],
            "needs_background": "light"
          }
        }
      ]
    },
    {
      "cell_type": "code",
      "metadata": {
        "id": "Cqo9F5U98aZ6",
        "colab_type": "code",
        "colab": {}
      },
      "source": [
        ""
      ],
      "execution_count": 0,
      "outputs": []
    }
  ]
}