{
  "nbformat": 4,
  "nbformat_minor": 0,
  "metadata": {
    "anaconda-cloud": {},
    "kernelspec": {
      "name": "python3",
      "display_name": "Python 3"
    },
    "colab": {
      "name": "第1回課題.ipynb",
      "provenance": [],
      "collapsed_sections": []
    }
  },
  "cells": [
    {
      "cell_type": "markdown",
      "metadata": {
        "id": "cRpI0nzbxljh",
        "colab_type": "text"
      },
      "source": [
        "# 第1回課題\n",
        "for文（enumerate, zip），dictの利用"
      ]
    },
    {
      "cell_type": "markdown",
      "metadata": {
        "id": "homZvfrdxlji",
        "colab_type": "text"
      },
      "source": [
        "## for文（enumerate, zip）\n",
        "for文を用いた統計値の導出"
      ]
    },
    {
      "cell_type": "markdown",
      "metadata": {
        "id": "Yid00A1rxljj",
        "colab_type": "text"
      },
      "source": [
        "### 課題1\n",
        "以下の行列 M について，各行の平均値を計算した上で，平均値を降順に出力せよ．\n",
        "```[python]\n",
        "M = [[50, 50, 80, 70, 90],\n",
        "     [50, 70, 60, 90, 100],\n",
        "     [90, 80, 90, 90, 80],\n",
        "     [0, 40, 60, 20, 70],\n",
        "     [60, 80, 90, 80, 90]\n",
        "    ]\n",
        "```\n",
        "出力：  \n",
        "    1位: 86.0  \n",
        "    2位: 80.0  \n",
        "    3位: 74.0  \n",
        "    4位: 68.0  \n",
        "    5位: 38.0  \n",
        " \n",
        "\n",
        "なお，本課題は標準ライブラリのみを利用し実現すること．"
      ]
    },
    {
      "cell_type": "code",
      "metadata": {
        "id": "MApLJN8VyktU",
        "colab_type": "code",
        "colab": {}
      },
      "source": [
        "M = [[50, 50, 80, 70, 90],\n",
        "     [50, 70, 60, 90, 100],\n",
        "     [90, 80, 90, 90, 80],\n",
        "     [0, 40, 60, 20, 70],\n",
        "     [60, 80, 90, 80, 90]\n",
        "    ]"
      ],
      "execution_count": 0,
      "outputs": []
    },
    {
      "cell_type": "code",
      "metadata": {
        "id": "U0Wilz_By9rD",
        "colab_type": "code",
        "colab": {}
      },
      "source": [
        "ave_m = []\n",
        "for m in M:\n",
        "  ave_m.append(sum(m)/len(m))"
      ],
      "execution_count": 0,
      "outputs": []
    },
    {
      "cell_type": "code",
      "metadata": {
        "id": "4tK95dpQzk-0",
        "colab_type": "code",
        "colab": {
          "base_uri": "https://localhost:8080/",
          "height": 102
        },
        "outputId": "2dab6003-6c2c-4b94-8a7f-7f794470669f"
      },
      "source": [
        "ave_m.sort(reverse = True)\n",
        "for i in range(5):\n",
        "  print(str(i+1)+'位:'+str(ave_m[i]))"
      ],
      "execution_count": 192,
      "outputs": [
        {
          "output_type": "stream",
          "text": [
            "1位:86.0\n",
            "2位:80.0\n",
            "3位:74.0\n",
            "4位:68.0\n",
            "5位:38.0\n"
          ],
          "name": "stdout"
        }
      ]
    },
    {
      "cell_type": "markdown",
      "metadata": {
        "id": "d82tD2nKxljp",
        "colab_type": "text"
      },
      "source": [
        "### 課題2\n",
        "以下の2つのデータに対し，共分散を導出せよ．  \n",
        "なお，少なくとも1度 zip を利用すること  \n",
        "\n",
        "\n",
        "```[python]\n",
        "d1 = [50, 50, 80, 70, 90]   # データ1\n",
        "d2 = [50, 70, 60, 90, 100]  # データ2\n",
        "```\n",
        "出力：  \n",
        "$188.0$  \n",
        "\n",
        "ここで，サンプル集合 $X=\\{x_i\\}_{1 \\le i \\le N}$，$Y=\\{y_i\\}_{1 \\le i \\le N}$ に対する 共分散 は下式により与えられるものとする．  \n",
        "なお，$N$はサンプル数を表す．\n",
        "\n",
        "$$\n",
        "    \\begin{align}\n",
        "        Cov(X,Y)&=\\frac{1}{N}\\left(\\sum_{i=1}^Nx_iy_i\\right)-\\left(\\frac{1}{N}\\sum_{i=1}^N x_i\\right)\\left(\\frac{1}{N}\\sum_{i=1}^N y_i\\right)\n",
        "    \\end{align}\n",
        "$$  \n",
        "\n",
        "なお，本課題は標準ライブラリのみを利用し実現すること．"
      ]
    },
    {
      "cell_type": "code",
      "metadata": {
        "id": "JnQNgEqfxljq",
        "colab_type": "code",
        "colab": {}
      },
      "source": [
        "d1 = [50, 50, 80, 70, 90]   # データ1\n",
        "d2 = [50, 70, 60, 90, 100]  # データ2"
      ],
      "execution_count": 0,
      "outputs": []
    },
    {
      "cell_type": "code",
      "metadata": {
        "id": "2Om2-T3FMmWG",
        "colab_type": "code",
        "colab": {}
      },
      "source": [
        "d1ave = sum(d1)/len(d1)\n",
        "d2ave = sum(d2)/len(d2)\n"
      ],
      "execution_count": 0,
      "outputs": []
    },
    {
      "cell_type": "code",
      "metadata": {
        "id": "A6YrKSXvNrW8",
        "colab_type": "code",
        "colab": {}
      },
      "source": [
        "X = d1ave*d2ave"
      ],
      "execution_count": 0,
      "outputs": []
    },
    {
      "cell_type": "code",
      "metadata": {
        "id": "Dg-JP7qUOs3P",
        "colab_type": "code",
        "outputId": "ea33044b-dc5b-4eee-9ee5-98cd03c00ac7",
        "colab": {
          "base_uri": "https://localhost:8080/",
          "height": 34
        }
      },
      "source": [
        "X"
      ],
      "execution_count": 204,
      "outputs": [
        {
          "output_type": "execute_result",
          "data": {
            "text/plain": [
              "5032.0"
            ]
          },
          "metadata": {
            "tags": []
          },
          "execution_count": 204
        }
      ]
    },
    {
      "cell_type": "code",
      "metadata": {
        "id": "BXj8iBiTJTsF",
        "colab_type": "code",
        "outputId": "6909e64b-0a99-41e7-9bac-4b8e1748e460",
        "colab": {
          "base_uri": "https://localhost:8080/",
          "height": 34
        }
      },
      "source": [
        "covariance = sum([d1i * d2i for d1i, d2i in zip(d1, d2)]) /5\n",
        "print(covariance)"
      ],
      "execution_count": 205,
      "outputs": [
        {
          "output_type": "stream",
          "text": [
            "5220.0\n"
          ],
          "name": "stdout"
        }
      ]
    },
    {
      "cell_type": "code",
      "metadata": {
        "id": "L05u4qgQJXvm",
        "colab_type": "code",
        "outputId": "d0458df3-ca93-40bf-b4f5-d756a7b98d81",
        "colab": {
          "base_uri": "https://localhost:8080/",
          "height": 34
        }
      },
      "source": [
        "print('共分散：',covariance-X)"
      ],
      "execution_count": 206,
      "outputs": [
        {
          "output_type": "stream",
          "text": [
            "共分散： 188.0\n"
          ],
          "name": "stdout"
        }
      ]
    },
    {
      "cell_type": "markdown",
      "metadata": {
        "id": "2XpNwq9exljt",
        "colab_type": "text"
      },
      "source": [
        "## dictの利用\n"
      ]
    },
    {
      "cell_type": "markdown",
      "metadata": {
        "id": "fDDuDGWzxlju",
        "colab_type": "text"
      },
      "source": [
        "### 課題3\n",
        "ある学校に所属する学生数が保存されたdictionary d_student が以下のように与えられているとする．  \n",
        "この時，博士（D），修士（M）学部（B）の合計人数をそれぞれ出力せよ\n",
        "```[python]\n",
        "d_student = {\"B4\": 86, \"D3\": 1, \"B3\": 91, \"D2\": 0, \"M2\": 17, \"B2\": 102, \"D1\": 1, \"M1\": 21, \"B1\": 110}\n",
        "```\n",
        "出力：  \n",
        "D: 2人  \n",
        "M: 38人  \n",
        "B: 389人  \n",
        "\n",
        "なお，本課題は標準ライブラリのみを利用し実現すること．"
      ]
    },
    {
      "cell_type": "code",
      "metadata": {
        "id": "el5IMCFSxljv",
        "colab_type": "code",
        "colab": {}
      },
      "source": [
        "d_student = {\"B4\": 86, \"D3\": 1, \"B3\": 91, \"D2\": 0, \"M2\": 17, \"B2\": 102, \"D1\": 1, \"M1\": 21, \"B1\": 110}"
      ],
      "execution_count": 0,
      "outputs": []
    },
    {
      "cell_type": "code",
      "metadata": {
        "id": "wPeb4rGZPdaZ",
        "colab_type": "code",
        "outputId": "88379f2f-949f-4d8a-b5d4-69eb63f14596",
        "colab": {
          "base_uri": "https://localhost:8080/",
          "height": 68
        }
      },
      "source": [
        "sum_B=0\n",
        "sum_D=0\n",
        "sum_M=0\n",
        "for keys, values in d_student.items():\n",
        "  if keys[0] == 'B':\n",
        "    sum_B += values\n",
        "  elif keys[0] == 'M':\n",
        "    sum_M += values\n",
        "  else:\n",
        "    sum_D += values \n",
        "print('D:'+str(sum_D)+'人')\n",
        "print('M:'+str(sum_M)+'人')\n",
        "print('B:'+str(sum_B)+'人')"
      ],
      "execution_count": 184,
      "outputs": [
        {
          "output_type": "stream",
          "text": [
            "D:2人\n",
            "M:38人\n",
            "B:389人\n"
          ],
          "name": "stdout"
        }
      ]
    },
    {
      "cell_type": "code",
      "metadata": {
        "id": "Dc_xLUR2UX0D",
        "colab_type": "code",
        "colab": {}
      },
      "source": [
        ""
      ],
      "execution_count": 0,
      "outputs": []
    }
  ]
}